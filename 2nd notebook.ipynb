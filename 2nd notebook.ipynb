{
 "cells": [
  {
   "cell_type": "code",
   "execution_count": 584,
   "metadata": {},
   "outputs": [],
   "source": [
    "import pandas as pd\n",
    "import numpy as np\n",
    "\n",
    "import matplotlib.pyplot as plt\n",
    "import seaborn as sns\n",
    "\n",
    "from sklearn.preprocessing import LabelEncoder\n",
    "from xgboost import XGBClassifier\n",
    "from sklearn.model_selection import cross_val_score\n",
    "from sklearn.model_selection import GridSearchCV , RandomizedSearchCV\n",
    "from sklearn.model_selection import train_test_split\n",
    "from sklearn import model_selection\n",
    "from sklearn.metrics import roc_auc_score\n",
    "import sys\n",
    "import warnings\n",
    "pd.set_option('display.max_columns',150)\n",
    "pd.set_option('display.max_rows',2500)\n",
    "\n",
    "if not sys.warnoptions:\n",
    "    warnings.simplefilter(\"ignore\")\n",
    "    \n",
    "def report(results, n_top=3):\n",
    "    for i in range(1, n_top + 1):\n",
    "        candidates = np.flatnonzero(results['rank_test_score'] == i)\n",
    "        for candidate in candidates:\n",
    "            print(\"Model with rank: {0}\".format(i))\n",
    "            print(\"Mean validation score: {0:.3f} (std: {1:.5f})\".format(\n",
    "                  results['mean_test_score'][candidate],\n",
    "                  results['std_test_score'][candidate]))\n",
    "            print(\"Parameters: {0}\".format(results['params'][candidate]))\n",
    "            print(\"\")"
   ]
  },
  {
   "cell_type": "code",
   "execution_count": 585,
   "metadata": {},
   "outputs": [],
   "source": [
    "data = pd.read_csv(r'./data.csv')"
   ]
  },
  {
   "cell_type": "code",
   "execution_count": 586,
   "metadata": {},
   "outputs": [
    {
     "data": {
      "text/html": [
       "<div>\n",
       "<style scoped>\n",
       "    .dataframe tbody tr th:only-of-type {\n",
       "        vertical-align: middle;\n",
       "    }\n",
       "\n",
       "    .dataframe tbody tr th {\n",
       "        vertical-align: top;\n",
       "    }\n",
       "\n",
       "    .dataframe thead th {\n",
       "        text-align: right;\n",
       "    }\n",
       "</style>\n",
       "<table border=\"1\" class=\"dataframe\">\n",
       "  <thead>\n",
       "    <tr style=\"text-align: right;\">\n",
       "      <th></th>\n",
       "      <th>Unnamed: 0</th>\n",
       "      <th>match_event_id</th>\n",
       "      <th>location_x</th>\n",
       "      <th>location_y</th>\n",
       "      <th>power_of_shot</th>\n",
       "      <th>knockout_match</th>\n",
       "      <th>game_season</th>\n",
       "      <th>distance_of_shot</th>\n",
       "      <th>is_goal</th>\n",
       "      <th>area_of_shot</th>\n",
       "      <th>shot_basics</th>\n",
       "      <th>range_of_shot</th>\n",
       "      <th>team_name</th>\n",
       "      <th>date_of_game</th>\n",
       "      <th>home</th>\n",
       "      <th>shot_id_number</th>\n",
       "      <th>lat</th>\n",
       "      <th>type_of_shot</th>\n",
       "      <th>match_id</th>\n",
       "      <th>remaining_min</th>\n",
       "      <th>remaining_sec</th>\n",
       "      <th>power_of_shot.1</th>\n",
       "    </tr>\n",
       "  </thead>\n",
       "  <tbody>\n",
       "    <tr>\n",
       "      <th>0</th>\n",
       "      <td>0</td>\n",
       "      <td>10.0</td>\n",
       "      <td>167</td>\n",
       "      <td>72</td>\n",
       "      <td>1.0</td>\n",
       "      <td>0.0</td>\n",
       "      <td>2000-01</td>\n",
       "      <td>38</td>\n",
       "      <td>NaN</td>\n",
       "      <td>Right Side(R)</td>\n",
       "      <td>Mid Range</td>\n",
       "      <td>16-24 ft.</td>\n",
       "      <td>Manchester United</td>\n",
       "      <td>10/31/2000</td>\n",
       "      <td>MANU @ POR</td>\n",
       "      <td>1.0</td>\n",
       "      <td>45.539131, -122.651648</td>\n",
       "      <td>shot - 30</td>\n",
       "      <td>20000012</td>\n",
       "      <td>10</td>\n",
       "      <td>27</td>\n",
       "      <td>1.0</td>\n",
       "    </tr>\n",
       "    <tr>\n",
       "      <th>1</th>\n",
       "      <td>1</td>\n",
       "      <td>12.0</td>\n",
       "      <td>-157</td>\n",
       "      <td>0</td>\n",
       "      <td>1.0</td>\n",
       "      <td>0.0</td>\n",
       "      <td>2000-01</td>\n",
       "      <td>35</td>\n",
       "      <td>0.0</td>\n",
       "      <td>Left Side(L)</td>\n",
       "      <td>Mid Range</td>\n",
       "      <td>8-16 ft.</td>\n",
       "      <td>Manchester United</td>\n",
       "      <td>10/31/2000</td>\n",
       "      <td>MANU @ POR</td>\n",
       "      <td>2.0</td>\n",
       "      <td>45.539131, -122.651648</td>\n",
       "      <td>shot - 45</td>\n",
       "      <td>20000012</td>\n",
       "      <td>10</td>\n",
       "      <td>22</td>\n",
       "      <td>1.0</td>\n",
       "    </tr>\n",
       "    <tr>\n",
       "      <th>2</th>\n",
       "      <td>2</td>\n",
       "      <td>35.0</td>\n",
       "      <td>-101</td>\n",
       "      <td>135</td>\n",
       "      <td>1.0</td>\n",
       "      <td>0.0</td>\n",
       "      <td>2000-01</td>\n",
       "      <td>36</td>\n",
       "      <td>1.0</td>\n",
       "      <td>Left Side Center(LC)</td>\n",
       "      <td>Mid Range</td>\n",
       "      <td>16-24 ft.</td>\n",
       "      <td>Manchester United</td>\n",
       "      <td>10/31/2000</td>\n",
       "      <td>NaN</td>\n",
       "      <td>3.0</td>\n",
       "      <td>45.539131, -122.651648</td>\n",
       "      <td>shot - 25</td>\n",
       "      <td>20000012</td>\n",
       "      <td>7</td>\n",
       "      <td>45</td>\n",
       "      <td>1.0</td>\n",
       "    </tr>\n",
       "    <tr>\n",
       "      <th>3</th>\n",
       "      <td>3</td>\n",
       "      <td>43.0</td>\n",
       "      <td>138</td>\n",
       "      <td>175</td>\n",
       "      <td>1.0</td>\n",
       "      <td>0.0</td>\n",
       "      <td>2000-01</td>\n",
       "      <td>42</td>\n",
       "      <td>0.0</td>\n",
       "      <td>Right Side Center(RC)</td>\n",
       "      <td>Mid Range</td>\n",
       "      <td>16-24 ft.</td>\n",
       "      <td>Manchester United</td>\n",
       "      <td>10/31/2000</td>\n",
       "      <td>MANU @ POR</td>\n",
       "      <td>4.0</td>\n",
       "      <td>45.539131, -122.651648</td>\n",
       "      <td>shot - 3</td>\n",
       "      <td>20000012</td>\n",
       "      <td>6</td>\n",
       "      <td>52</td>\n",
       "      <td>1.0</td>\n",
       "    </tr>\n",
       "    <tr>\n",
       "      <th>4</th>\n",
       "      <td>4</td>\n",
       "      <td>155.0</td>\n",
       "      <td>0</td>\n",
       "      <td>0</td>\n",
       "      <td>2.0</td>\n",
       "      <td>0.0</td>\n",
       "      <td>2000-01</td>\n",
       "      <td>20</td>\n",
       "      <td>1.0</td>\n",
       "      <td>Center(C)</td>\n",
       "      <td>Goal Area</td>\n",
       "      <td>Less Than 8 ft.</td>\n",
       "      <td>Manchester United</td>\n",
       "      <td>10/31/2000</td>\n",
       "      <td>MANU @ POR</td>\n",
       "      <td>5.0</td>\n",
       "      <td>45.539131, -122.651648</td>\n",
       "      <td>shot - 1</td>\n",
       "      <td>20000012</td>\n",
       "      <td>6</td>\n",
       "      <td>19</td>\n",
       "      <td>2.0</td>\n",
       "    </tr>\n",
       "  </tbody>\n",
       "</table>\n",
       "</div>"
      ],
      "text/plain": [
       "   Unnamed: 0  match_event_id  location_x  location_y  power_of_shot  \\\n",
       "0           0            10.0         167          72            1.0   \n",
       "1           1            12.0        -157           0            1.0   \n",
       "2           2            35.0        -101         135            1.0   \n",
       "3           3            43.0         138         175            1.0   \n",
       "4           4           155.0           0           0            2.0   \n",
       "\n",
       "   knockout_match game_season  distance_of_shot  is_goal  \\\n",
       "0             0.0     2000-01                38      NaN   \n",
       "1             0.0     2000-01                35      0.0   \n",
       "2             0.0     2000-01                36      1.0   \n",
       "3             0.0     2000-01                42      0.0   \n",
       "4             0.0     2000-01                20      1.0   \n",
       "\n",
       "            area_of_shot shot_basics    range_of_shot          team_name  \\\n",
       "0          Right Side(R)   Mid Range        16-24 ft.  Manchester United   \n",
       "1           Left Side(L)   Mid Range         8-16 ft.  Manchester United   \n",
       "2   Left Side Center(LC)   Mid Range        16-24 ft.  Manchester United   \n",
       "3  Right Side Center(RC)   Mid Range        16-24 ft.  Manchester United   \n",
       "4              Center(C)   Goal Area  Less Than 8 ft.  Manchester United   \n",
       "\n",
       "  date_of_game        home  shot_id_number                     lat  \\\n",
       "0   10/31/2000  MANU @ POR             1.0  45.539131, -122.651648   \n",
       "1   10/31/2000  MANU @ POR             2.0  45.539131, -122.651648   \n",
       "2   10/31/2000         NaN             3.0  45.539131, -122.651648   \n",
       "3   10/31/2000  MANU @ POR             4.0  45.539131, -122.651648   \n",
       "4   10/31/2000  MANU @ POR             5.0  45.539131, -122.651648   \n",
       "\n",
       "  type_of_shot  match_id  remaining_min  remaining_sec  power_of_shot.1  \n",
       "0    shot - 30  20000012             10             27              1.0  \n",
       "1    shot - 45  20000012             10             22              1.0  \n",
       "2    shot - 25  20000012              7             45              1.0  \n",
       "3     shot - 3  20000012              6             52              1.0  \n",
       "4     shot - 1  20000012              6             19              2.0  "
      ]
     },
     "execution_count": 586,
     "metadata": {},
     "output_type": "execute_result"
    }
   ],
   "source": [
    "data.head()"
   ]
  },
  {
   "cell_type": "code",
   "execution_count": 587,
   "metadata": {},
   "outputs": [
    {
     "data": {
      "text/plain": [
       "(30697, 21)"
      ]
     },
     "execution_count": 587,
     "metadata": {},
     "output_type": "execute_result"
    }
   ],
   "source": [
    "data.drop('Unnamed: 0',axis=1,inplace=True)\n",
    "data.shape"
   ]
  },
  {
   "cell_type": "code",
   "execution_count": 588,
   "metadata": {},
   "outputs": [
    {
     "data": {
      "text/plain": [
       "train    24429\n",
       "test      6268\n",
       "Name: source, dtype: int64"
      ]
     },
     "execution_count": 588,
     "metadata": {},
     "output_type": "execute_result"
    }
   ],
   "source": [
    "data['source']=0\n",
    "data.ix[data['is_goal'].isnull(),['source']] = 'test'\n",
    "data['source']=data['source'].replace(0,'train')\n",
    "data.source.value_counts()"
   ]
  },
  {
   "cell_type": "markdown",
   "metadata": {},
   "source": [
    "# filling na values"
   ]
  },
  {
   "cell_type": "code",
   "execution_count": 589,
   "metadata": {},
   "outputs": [],
   "source": [
    "#   i've manually imputed  na values of distance_of_shot, area_of_shot,\n",
    "#   shot_basics, range_of_shot, power of shot,type_of_shot using different filters and mean, ramaining min and remaining ses"
   ]
  },
  {
   "cell_type": "code",
   "execution_count": 590,
   "metadata": {},
   "outputs": [],
   "source": [
    "data['knockout_match'] = data.groupby('match_id')['knockout_match'].transform(lambda x:x.fillna(np.mean(x)))\n",
    "data['home'] = data.groupby('match_id')['home'].transform(lambda x:x.fillna(x.mode().iat[0]))\n",
    "data['lat'] = data.groupby('match_id')['lat'].transform(lambda x:x.fillna(x.mode().iat[0]))"
   ]
  },
  {
   "cell_type": "code",
   "execution_count": 591,
   "metadata": {},
   "outputs": [],
   "source": [
    "data.drop(['power_of_shot.1'],axis=1,inplace=True)"
   ]
  },
  {
   "cell_type": "code",
   "execution_count": 592,
   "metadata": {},
   "outputs": [],
   "source": [
    "data['date_of_game']=data.groupby('match_id')['date_of_game'].transform(lambda x:x.fillna(x.mode().iat[0]))\n",
    "data['game_season']=data.groupby('match_id')['game_season'].transform(lambda x:x.fillna(x.mode().iat[0]))"
   ]
  },
  {
   "cell_type": "code",
   "execution_count": 593,
   "metadata": {},
   "outputs": [],
   "source": [
    "data['area_of_shot'] = data['area_of_shot'].fillna('centre')"
   ]
  },
  {
   "cell_type": "code",
   "execution_count": 594,
   "metadata": {},
   "outputs": [],
   "source": [
    "data['location_y']=data.groupby(['area_of_shot','shot_basics','range_of_shot','location_x'])['location_y'].transform(lambda x:x.fillna(x.mode().iat[0]))\n",
    "data['location_x']=data.groupby(['area_of_shot','shot_basics','range_of_shot','location_y'])['location_x'].transform(lambda x:x.fillna(x.mode().iat[0]))"
   ]
  },
  {
   "cell_type": "code",
   "execution_count": 595,
   "metadata": {},
   "outputs": [],
   "source": [
    "data['power_of_shot'] = data.groupby('range_of_shot')['power_of_shot'].transform(lambda x: x.fillna(x.mode().iat[0]))"
   ]
  },
  {
   "cell_type": "code",
   "execution_count": 596,
   "metadata": {},
   "outputs": [
    {
     "data": {
      "text/plain": [
       "match_event_id      1563\n",
       "location_x             0\n",
       "location_y             0\n",
       "power_of_shot          0\n",
       "knockout_match         0\n",
       "game_season            0\n",
       "distance_of_shot       0\n",
       "is_goal             6268\n",
       "area_of_shot           0\n",
       "shot_basics            0\n",
       "range_of_shot          0\n",
       "team_name              0\n",
       "date_of_game           0\n",
       "home                   0\n",
       "shot_id_number      1563\n",
       "lat                    0\n",
       "type_of_shot           0\n",
       "match_id               0\n",
       "remaining_min          0\n",
       "remaining_sec          0\n",
       "source                 0\n",
       "dtype: int64"
      ]
     },
     "execution_count": 596,
     "metadata": {},
     "output_type": "execute_result"
    }
   ],
   "source": [
    "data.isnull().sum()"
   ]
  },
  {
   "cell_type": "markdown",
   "metadata": {},
   "source": [
    "# done with imputations"
   ]
  },
  {
   "cell_type": "markdown",
   "metadata": {},
   "source": [
    "# eda"
   ]
  },
  {
   "cell_type": "code",
   "execution_count": 597,
   "metadata": {},
   "outputs": [
    {
     "data": {
      "text/html": [
       "<div>\n",
       "<style scoped>\n",
       "    .dataframe tbody tr th:only-of-type {\n",
       "        vertical-align: middle;\n",
       "    }\n",
       "\n",
       "    .dataframe tbody tr th {\n",
       "        vertical-align: top;\n",
       "    }\n",
       "\n",
       "    .dataframe thead th {\n",
       "        text-align: right;\n",
       "    }\n",
       "</style>\n",
       "<table border=\"1\" class=\"dataframe\">\n",
       "  <thead>\n",
       "    <tr style=\"text-align: right;\">\n",
       "      <th></th>\n",
       "      <th>location_x</th>\n",
       "      <th>location_y</th>\n",
       "      <th>distance_of_shot</th>\n",
       "      <th>match_id</th>\n",
       "      <th>remaining_min</th>\n",
       "      <th>remaining_sec</th>\n",
       "    </tr>\n",
       "  </thead>\n",
       "  <tbody>\n",
       "    <tr>\n",
       "      <th>count</th>\n",
       "      <td>30697.000000</td>\n",
       "      <td>30697.000000</td>\n",
       "      <td>30697.000000</td>\n",
       "      <td>3.069700e+04</td>\n",
       "      <td>30697.000000</td>\n",
       "      <td>30697.000000</td>\n",
       "    </tr>\n",
       "    <tr>\n",
       "      <th>mean</th>\n",
       "      <td>7.110499</td>\n",
       "      <td>91.107535</td>\n",
       "      <td>33.410626</td>\n",
       "      <td>2.476407e+07</td>\n",
       "      <td>4.885624</td>\n",
       "      <td>28.365085</td>\n",
       "    </tr>\n",
       "    <tr>\n",
       "      <th>std</th>\n",
       "      <td>110.124578</td>\n",
       "      <td>87.791361</td>\n",
       "      <td>9.368097</td>\n",
       "      <td>7.755175e+06</td>\n",
       "      <td>3.449897</td>\n",
       "      <td>17.478949</td>\n",
       "    </tr>\n",
       "    <tr>\n",
       "      <th>min</th>\n",
       "      <td>-250.000000</td>\n",
       "      <td>-44.000000</td>\n",
       "      <td>20.000000</td>\n",
       "      <td>2.000001e+07</td>\n",
       "      <td>0.000000</td>\n",
       "      <td>0.000000</td>\n",
       "    </tr>\n",
       "    <tr>\n",
       "      <th>25%</th>\n",
       "      <td>-68.000000</td>\n",
       "      <td>4.000000</td>\n",
       "      <td>25.000000</td>\n",
       "      <td>2.050008e+07</td>\n",
       "      <td>2.000000</td>\n",
       "      <td>13.000000</td>\n",
       "    </tr>\n",
       "    <tr>\n",
       "      <th>50%</th>\n",
       "      <td>0.000000</td>\n",
       "      <td>74.000000</td>\n",
       "      <td>35.000000</td>\n",
       "      <td>2.090035e+07</td>\n",
       "      <td>5.000000</td>\n",
       "      <td>28.000000</td>\n",
       "    </tr>\n",
       "    <tr>\n",
       "      <th>75%</th>\n",
       "      <td>95.000000</td>\n",
       "      <td>160.000000</td>\n",
       "      <td>41.000000</td>\n",
       "      <td>2.960047e+07</td>\n",
       "      <td>8.000000</td>\n",
       "      <td>43.000000</td>\n",
       "    </tr>\n",
       "    <tr>\n",
       "      <th>max</th>\n",
       "      <td>248.000000</td>\n",
       "      <td>791.000000</td>\n",
       "      <td>99.000000</td>\n",
       "      <td>4.990009e+07</td>\n",
       "      <td>11.000000</td>\n",
       "      <td>59.000000</td>\n",
       "    </tr>\n",
       "  </tbody>\n",
       "</table>\n",
       "</div>"
      ],
      "text/plain": [
       "         location_x    location_y  distance_of_shot      match_id  \\\n",
       "count  30697.000000  30697.000000      30697.000000  3.069700e+04   \n",
       "mean       7.110499     91.107535         33.410626  2.476407e+07   \n",
       "std      110.124578     87.791361          9.368097  7.755175e+06   \n",
       "min     -250.000000    -44.000000         20.000000  2.000001e+07   \n",
       "25%      -68.000000      4.000000         25.000000  2.050008e+07   \n",
       "50%        0.000000     74.000000         35.000000  2.090035e+07   \n",
       "75%       95.000000    160.000000         41.000000  2.960047e+07   \n",
       "max      248.000000    791.000000         99.000000  4.990009e+07   \n",
       "\n",
       "       remaining_min  remaining_sec  \n",
       "count   30697.000000   30697.000000  \n",
       "mean        4.885624      28.365085  \n",
       "std         3.449897      17.478949  \n",
       "min         0.000000       0.000000  \n",
       "25%         2.000000      13.000000  \n",
       "50%         5.000000      28.000000  \n",
       "75%         8.000000      43.000000  \n",
       "max        11.000000      59.000000  "
      ]
     },
     "execution_count": 597,
     "metadata": {},
     "output_type": "execute_result"
    }
   ],
   "source": [
    "data.describe(include=['int64'])"
   ]
  },
  {
   "cell_type": "code",
   "execution_count": 598,
   "metadata": {},
   "outputs": [
    {
     "data": {
      "text/html": [
       "<div>\n",
       "<style scoped>\n",
       "    .dataframe tbody tr th:only-of-type {\n",
       "        vertical-align: middle;\n",
       "    }\n",
       "\n",
       "    .dataframe tbody tr th {\n",
       "        vertical-align: top;\n",
       "    }\n",
       "\n",
       "    .dataframe thead th {\n",
       "        text-align: right;\n",
       "    }\n",
       "</style>\n",
       "<table border=\"1\" class=\"dataframe\">\n",
       "  <thead>\n",
       "    <tr style=\"text-align: right;\">\n",
       "      <th></th>\n",
       "      <th>game_season</th>\n",
       "      <th>area_of_shot</th>\n",
       "      <th>shot_basics</th>\n",
       "      <th>range_of_shot</th>\n",
       "      <th>team_name</th>\n",
       "      <th>date_of_game</th>\n",
       "      <th>home</th>\n",
       "      <th>lat</th>\n",
       "      <th>type_of_shot</th>\n",
       "      <th>source</th>\n",
       "    </tr>\n",
       "  </thead>\n",
       "  <tbody>\n",
       "    <tr>\n",
       "      <th>count</th>\n",
       "      <td>30697</td>\n",
       "      <td>30697</td>\n",
       "      <td>30697</td>\n",
       "      <td>30697</td>\n",
       "      <td>30697</td>\n",
       "      <td>30697</td>\n",
       "      <td>30697</td>\n",
       "      <td>30697</td>\n",
       "      <td>30697</td>\n",
       "      <td>30697</td>\n",
       "    </tr>\n",
       "    <tr>\n",
       "      <th>unique</th>\n",
       "      <td>20</td>\n",
       "      <td>7</td>\n",
       "      <td>7</td>\n",
       "      <td>5</td>\n",
       "      <td>1</td>\n",
       "      <td>1559</td>\n",
       "      <td>74</td>\n",
       "      <td>38</td>\n",
       "      <td>57</td>\n",
       "      <td>2</td>\n",
       "    </tr>\n",
       "    <tr>\n",
       "      <th>top</th>\n",
       "      <td>2005-06</td>\n",
       "      <td>Center(C)</td>\n",
       "      <td>Mid Range</td>\n",
       "      <td>Less Than 8 ft.</td>\n",
       "      <td>Manchester United</td>\n",
       "      <td>4/13/2016</td>\n",
       "      <td>MANU @ SAS</td>\n",
       "      <td>42.982923, -71.446094</td>\n",
       "      <td>shot - 3</td>\n",
       "      <td>train</td>\n",
       "    </tr>\n",
       "    <tr>\n",
       "      <th>freq</th>\n",
       "      <td>2319</td>\n",
       "      <td>13546</td>\n",
       "      <td>12468</td>\n",
       "      <td>9394</td>\n",
       "      <td>30697</td>\n",
       "      <td>50</td>\n",
       "      <td>1020</td>\n",
       "      <td>14956</td>\n",
       "      <td>11850</td>\n",
       "      <td>24429</td>\n",
       "    </tr>\n",
       "  </tbody>\n",
       "</table>\n",
       "</div>"
      ],
      "text/plain": [
       "       game_season area_of_shot shot_basics    range_of_shot  \\\n",
       "count        30697        30697       30697            30697   \n",
       "unique          20            7           7                5   \n",
       "top        2005-06    Center(C)   Mid Range  Less Than 8 ft.   \n",
       "freq          2319        13546       12468             9394   \n",
       "\n",
       "                team_name date_of_game        home                    lat  \\\n",
       "count               30697        30697       30697                  30697   \n",
       "unique                  1         1559          74                     38   \n",
       "top     Manchester United    4/13/2016  MANU @ SAS  42.982923, -71.446094   \n",
       "freq                30697           50        1020                  14956   \n",
       "\n",
       "       type_of_shot source  \n",
       "count         30697  30697  \n",
       "unique           57      2  \n",
       "top        shot - 3  train  \n",
       "freq          11850  24429  "
      ]
     },
     "execution_count": 598,
     "metadata": {},
     "output_type": "execute_result"
    }
   ],
   "source": [
    "data.describe(include=['object', 'category'])"
   ]
  },
  {
   "cell_type": "code",
   "execution_count": 599,
   "metadata": {},
   "outputs": [
    {
     "data": {
      "text/plain": [
       "<matplotlib.axes._subplots.AxesSubplot at 0x2018e4fd128>"
      ]
     },
     "execution_count": 599,
     "metadata": {},
     "output_type": "execute_result"
    },
    {
     "data": {
      "image/png": "[encoded data removed]",
      "text/plain": [
       "<Figure size 432x288 with 1 Axes>"
      ]
     },
     "metadata": {
      "needs_background": "light"
     },
     "output_type": "display_data"
    }
   ],
   "source": [
    "#checking for imbalance and count of goals\n",
    "sns.countplot(data['is_goal'])"
   ]
  },
  {
   "cell_type": "code",
   "execution_count": 600,
   "metadata": {},
   "outputs": [
    {
     "data": {
      "text/plain": [
       "<matplotlib.axes._subplots.AxesSubplot at 0x20197d20240>"
      ]
     },
     "execution_count": 600,
     "metadata": {},
     "output_type": "execute_result"
    },
    {
     "data": {
      "image/png": "[encoded data removed]",
      "text/plain": [
       "<Figure size 432x288 with 1 Axes>"
      ]
     },
     "metadata": {
      "needs_background": "light"
     },
     "output_type": "display_data"
    }
   ],
   "source": [
    "#remaining minute frequency\n",
    "sns.countplot(data.remaining_min)"
   ]
  },
  {
   "cell_type": "code",
   "execution_count": 601,
   "metadata": {},
   "outputs": [
    {
     "data": {
      "image/png": "[encoded data removed]",
      "text/plain": [
       "<Figure size 432x288 with 1 Axes>"
      ]
     },
     "metadata": {
      "needs_background": "light"
     },
     "output_type": "display_data"
    }
   ],
   "source": [
    "c = data.groupby('remaining_min')['is_goal'].mean()\n",
    "plt.plot(c.index, c.values)\n",
    "plt.xlabel('remaining_min')\n",
    "plt.ylabel('Mean(goal)')\n",
    "plt.scatter(c.index, c.values)\n",
    "plt.show()"
   ]
  },
  {
   "cell_type": "code",
   "execution_count": 602,
   "metadata": {},
   "outputs": [
    {
     "data": {
      "text/plain": [
       "<matplotlib.axes._subplots.AxesSubplot at 0x2018e499f98>"
      ]
     },
     "execution_count": 602,
     "metadata": {},
     "output_type": "execute_result"
    },
    {
     "data": {
      "image/png": "[encoded data removed]",
      "text/plain": [
       "<Figure size 1440x576 with 1 Axes>"
      ]
     },
     "metadata": {
      "needs_background": "light"
     },
     "output_type": "display_data"
    }
   ],
   "source": [
    "#remining seconds frequency\n",
    "plt.figure(figsize=(20,8))\n",
    "sns.countplot(data.remaining_sec)"
   ]
  },
  {
   "cell_type": "code",
   "execution_count": 603,
   "metadata": {},
   "outputs": [
    {
     "data": {
      "image/png": "[encoded data removed]",
      "text/plain": [
       "<Figure size 432x288 with 1 Axes>"
      ]
     },
     "metadata": {
      "needs_background": "light"
     },
     "output_type": "display_data"
    }
   ],
   "source": [
    "c = data.groupby('remaining_sec')['is_goal'].mean()\n",
    "plt.plot(c.index, c.values)\n",
    "plt.xlabel('remaining_sec')\n",
    "plt.ylabel('Mean(goal)')\n",
    "plt.scatter(c.index, c.values)\n",
    "plt.show()"
   ]
  },
  {
   "cell_type": "code",
   "execution_count": 604,
   "metadata": {},
   "outputs": [
    {
     "data": {
      "image/png": "[encoded data removed]",
      "text/plain": [
       "<Figure size 432x288 with 1 Axes>"
      ]
     },
     "metadata": {
      "needs_background": "light"
     },
     "output_type": "display_data"
    }
   ],
   "source": [
    "c = data.groupby('distance_of_shot')['is_goal'].mean()\n",
    "plt.plot(c.index, c.values)\n",
    "plt.xlabel('distance_of_shot')\n",
    "plt.ylabel('Mean(goal)')\n",
    "plt.scatter(c.index, c.values)\n",
    "plt.show()"
   ]
  },
  {
   "cell_type": "code",
   "execution_count": 605,
   "metadata": {},
   "outputs": [
    {
     "data": {
      "image/png": "[encoded data removed]",
      "text/plain": [
       "<Figure size 432x288 with 1 Axes>"
      ]
     },
     "metadata": {
      "needs_background": "light"
     },
     "output_type": "display_data"
    }
   ],
   "source": [
    "#power of shots\n",
    "c = data.groupby('power_of_shot')['is_goal'].mean()\n",
    "plt.plot(c.index, c.values)\n",
    "plt.scatter(c.index, c.values)\n",
    "plt.show()"
   ]
  },
  {
   "cell_type": "code",
   "execution_count": 606,
   "metadata": {},
   "outputs": [
    {
     "data": {
      "text/plain": [
       "<matplotlib.axes._subplots.AxesSubplot at 0x201890aa550>"
      ]
     },
     "execution_count": 606,
     "metadata": {},
     "output_type": "execute_result"
    },
    {
     "data": {
      "image/png": "[encoded data removed]",
      "text/plain": [
       "<Figure size 432x288 with 1 Axes>"
      ]
     },
     "metadata": {
      "needs_background": "light"
     },
     "output_type": "display_data"
    }
   ],
   "source": [
    "#knockout\n",
    "sns.barplot('knockout_match', 'is_goal', data=data)\n",
    "\n",
    "\n",
    "#Not useful"
   ]
  },
  {
   "cell_type": "code",
   "execution_count": 607,
   "metadata": {},
   "outputs": [
    {
     "data": {
      "image/png": "[encoded data removed]",
      "text/plain": [
       "<Figure size 432x288 with 1 Axes>"
      ]
     },
     "metadata": {
      "needs_background": "light"
     },
     "output_type": "display_data"
    }
   ],
   "source": [
    "#goal per game\n",
    "sns.barplot('game_season', 'is_goal', data=data)\n",
    "plt.xticks(rotation='vertical')\n",
    "plt.show()"
   ]
  },
  {
   "cell_type": "code",
   "execution_count": 608,
   "metadata": {},
   "outputs": [
    {
     "data": {
      "image/png": "[encoded data removed]",
      "text/plain": [
       "<Figure size 1440x576 with 1 Axes>"
      ]
     },
     "metadata": {
      "needs_background": "light"
     },
     "output_type": "display_data"
    }
   ],
   "source": [
    "#type of shot vs goal\n",
    "plt.figure(figsize=(20,8))\n",
    "sns.barplot(data.type_of_shot, data.is_goal)\n",
    "plt.xticks(rotation='vertical')\n",
    "plt.show()"
   ]
  },
  {
   "cell_type": "markdown",
   "metadata": {},
   "source": [
    "# feature generation"
   ]
  },
  {
   "cell_type": "code",
   "execution_count": 609,
   "metadata": {},
   "outputs": [
    {
     "data": {
      "text/html": [
       "<div>\n",
       "<style scoped>\n",
       "    .dataframe tbody tr th:only-of-type {\n",
       "        vertical-align: middle;\n",
       "    }\n",
       "\n",
       "    .dataframe tbody tr th {\n",
       "        vertical-align: top;\n",
       "    }\n",
       "\n",
       "    .dataframe thead th {\n",
       "        text-align: right;\n",
       "    }\n",
       "</style>\n",
       "<table border=\"1\" class=\"dataframe\">\n",
       "  <thead>\n",
       "    <tr style=\"text-align: right;\">\n",
       "      <th></th>\n",
       "      <th>match_event_id</th>\n",
       "      <th>location_x</th>\n",
       "      <th>location_y</th>\n",
       "      <th>power_of_shot</th>\n",
       "      <th>knockout_match</th>\n",
       "      <th>game_season</th>\n",
       "      <th>distance_of_shot</th>\n",
       "      <th>is_goal</th>\n",
       "      <th>area_of_shot</th>\n",
       "      <th>shot_basics</th>\n",
       "      <th>range_of_shot</th>\n",
       "      <th>team_name</th>\n",
       "      <th>date_of_game</th>\n",
       "      <th>home</th>\n",
       "      <th>shot_id_number</th>\n",
       "      <th>lat</th>\n",
       "      <th>type_of_shot</th>\n",
       "      <th>match_id</th>\n",
       "      <th>remaining_min</th>\n",
       "      <th>remaining_sec</th>\n",
       "      <th>source</th>\n",
       "    </tr>\n",
       "  </thead>\n",
       "  <tbody>\n",
       "    <tr>\n",
       "      <th>0</th>\n",
       "      <td>10.0</td>\n",
       "      <td>167</td>\n",
       "      <td>72</td>\n",
       "      <td>1.0</td>\n",
       "      <td>0.0</td>\n",
       "      <td>2000-01</td>\n",
       "      <td>38</td>\n",
       "      <td>NaN</td>\n",
       "      <td>Right Side(R)</td>\n",
       "      <td>Mid Range</td>\n",
       "      <td>16-24 ft.</td>\n",
       "      <td>Manchester United</td>\n",
       "      <td>10/31/2000</td>\n",
       "      <td>MANU @ POR</td>\n",
       "      <td>1.0</td>\n",
       "      <td>45.539131, -122.651648</td>\n",
       "      <td>shot - 30</td>\n",
       "      <td>20000012</td>\n",
       "      <td>10</td>\n",
       "      <td>27</td>\n",
       "      <td>test</td>\n",
       "    </tr>\n",
       "    <tr>\n",
       "      <th>1</th>\n",
       "      <td>12.0</td>\n",
       "      <td>-157</td>\n",
       "      <td>0</td>\n",
       "      <td>1.0</td>\n",
       "      <td>0.0</td>\n",
       "      <td>2000-01</td>\n",
       "      <td>35</td>\n",
       "      <td>0.0</td>\n",
       "      <td>Left Side(L)</td>\n",
       "      <td>Mid Range</td>\n",
       "      <td>8-16 ft.</td>\n",
       "      <td>Manchester United</td>\n",
       "      <td>10/31/2000</td>\n",
       "      <td>MANU @ POR</td>\n",
       "      <td>2.0</td>\n",
       "      <td>45.539131, -122.651648</td>\n",
       "      <td>shot - 45</td>\n",
       "      <td>20000012</td>\n",
       "      <td>10</td>\n",
       "      <td>22</td>\n",
       "      <td>train</td>\n",
       "    </tr>\n",
       "    <tr>\n",
       "      <th>2</th>\n",
       "      <td>35.0</td>\n",
       "      <td>-101</td>\n",
       "      <td>135</td>\n",
       "      <td>1.0</td>\n",
       "      <td>0.0</td>\n",
       "      <td>2000-01</td>\n",
       "      <td>36</td>\n",
       "      <td>1.0</td>\n",
       "      <td>Left Side Center(LC)</td>\n",
       "      <td>Mid Range</td>\n",
       "      <td>16-24 ft.</td>\n",
       "      <td>Manchester United</td>\n",
       "      <td>10/31/2000</td>\n",
       "      <td>MANU @ POR</td>\n",
       "      <td>3.0</td>\n",
       "      <td>45.539131, -122.651648</td>\n",
       "      <td>shot - 25</td>\n",
       "      <td>20000012</td>\n",
       "      <td>7</td>\n",
       "      <td>45</td>\n",
       "      <td>train</td>\n",
       "    </tr>\n",
       "    <tr>\n",
       "      <th>3</th>\n",
       "      <td>43.0</td>\n",
       "      <td>138</td>\n",
       "      <td>175</td>\n",
       "      <td>1.0</td>\n",
       "      <td>0.0</td>\n",
       "      <td>2000-01</td>\n",
       "      <td>42</td>\n",
       "      <td>0.0</td>\n",
       "      <td>Right Side Center(RC)</td>\n",
       "      <td>Mid Range</td>\n",
       "      <td>16-24 ft.</td>\n",
       "      <td>Manchester United</td>\n",
       "      <td>10/31/2000</td>\n",
       "      <td>MANU @ POR</td>\n",
       "      <td>4.0</td>\n",
       "      <td>45.539131, -122.651648</td>\n",
       "      <td>shot - 3</td>\n",
       "      <td>20000012</td>\n",
       "      <td>6</td>\n",
       "      <td>52</td>\n",
       "      <td>train</td>\n",
       "    </tr>\n",
       "    <tr>\n",
       "      <th>4</th>\n",
       "      <td>155.0</td>\n",
       "      <td>0</td>\n",
       "      <td>0</td>\n",
       "      <td>2.0</td>\n",
       "      <td>0.0</td>\n",
       "      <td>2000-01</td>\n",
       "      <td>20</td>\n",
       "      <td>1.0</td>\n",
       "      <td>Center(C)</td>\n",
       "      <td>Goal Area</td>\n",
       "      <td>Less Than 8 ft.</td>\n",
       "      <td>Manchester United</td>\n",
       "      <td>10/31/2000</td>\n",
       "      <td>MANU @ POR</td>\n",
       "      <td>5.0</td>\n",
       "      <td>45.539131, -122.651648</td>\n",
       "      <td>shot - 1</td>\n",
       "      <td>20000012</td>\n",
       "      <td>6</td>\n",
       "      <td>19</td>\n",
       "      <td>train</td>\n",
       "    </tr>\n",
       "  </tbody>\n",
       "</table>\n",
       "</div>"
      ],
      "text/plain": [
       "   match_event_id  location_x  location_y  power_of_shot  knockout_match  \\\n",
       "0            10.0         167          72            1.0             0.0   \n",
       "1            12.0        -157           0            1.0             0.0   \n",
       "2            35.0        -101         135            1.0             0.0   \n",
       "3            43.0         138         175            1.0             0.0   \n",
       "4           155.0           0           0            2.0             0.0   \n",
       "\n",
       "  game_season  distance_of_shot  is_goal           area_of_shot shot_basics  \\\n",
       "0     2000-01                38      NaN          Right Side(R)   Mid Range   \n",
       "1     2000-01                35      0.0           Left Side(L)   Mid Range   \n",
       "2     2000-01                36      1.0   Left Side Center(LC)   Mid Range   \n",
       "3     2000-01                42      0.0  Right Side Center(RC)   Mid Range   \n",
       "4     2000-01                20      1.0              Center(C)   Goal Area   \n",
       "\n",
       "     range_of_shot          team_name date_of_game        home  \\\n",
       "0        16-24 ft.  Manchester United   10/31/2000  MANU @ POR   \n",
       "1         8-16 ft.  Manchester United   10/31/2000  MANU @ POR   \n",
       "2        16-24 ft.  Manchester United   10/31/2000  MANU @ POR   \n",
       "3        16-24 ft.  Manchester United   10/31/2000  MANU @ POR   \n",
       "4  Less Than 8 ft.  Manchester United   10/31/2000  MANU @ POR   \n",
       "\n",
       "   shot_id_number                     lat type_of_shot  match_id  \\\n",
       "0             1.0  45.539131, -122.651648    shot - 30  20000012   \n",
       "1             2.0  45.539131, -122.651648    shot - 45  20000012   \n",
       "2             3.0  45.539131, -122.651648    shot - 25  20000012   \n",
       "3             4.0  45.539131, -122.651648     shot - 3  20000012   \n",
       "4             5.0  45.539131, -122.651648     shot - 1  20000012   \n",
       "\n",
       "   remaining_min  remaining_sec source  \n",
       "0             10             27   test  \n",
       "1             10             22  train  \n",
       "2              7             45  train  \n",
       "3              6             52  train  \n",
       "4              6             19  train  "
      ]
     },
     "execution_count": 609,
     "metadata": {},
     "output_type": "execute_result"
    }
   ],
   "source": [
    "data.head()"
   ]
  },
  {
   "cell_type": "code",
   "execution_count": 610,
   "metadata": {},
   "outputs": [],
   "source": [
    "# data['type_of_shot'] = data['type_of_shot'].str.replace(\"shot\", \" \")\n",
    "# data['type_of_shot'] = data['type_of_shot'].str.replace(\"-\", \" \")"
   ]
  },
  {
   "cell_type": "code",
   "execution_count": 611,
   "metadata": {},
   "outputs": [],
   "source": [
    "#coding @ and vs\n",
    "data['home'] = data.home.apply(lambda x: 0 if (x.split(' ')[1])=='@' else 1)"
   ]
  },
  {
   "cell_type": "code",
   "execution_count": 612,
   "metadata": {},
   "outputs": [],
   "source": [
    "#converting date_of_game to datetime\n",
    "data['date_of_game'] = pd.to_datetime(data.date_of_game)\n",
    "\n",
    "data['game_date_month'] = data.date_of_game.dt.month\n",
    "\n",
    "data['game_date_quarter'] = data.date_of_game.dt.quarter"
   ]
  },
  {
   "cell_type": "code",
   "execution_count": 613,
   "metadata": {},
   "outputs": [],
   "source": [
    "#total time\n",
    "data['time_remaining'] = data.apply(lambda x: x['remaining_min']*60+x['remaining_sec'], axis=1)"
   ]
  },
  {
   "cell_type": "code",
   "execution_count": 614,
   "metadata": {},
   "outputs": [],
   "source": [
    "#last 3 seconds success rate is lower.\n",
    "data['timeUnder4'] = data.time_remaining.apply(lambda x: 1 if x<4 else 0)"
   ]
  },
  {
   "cell_type": "code",
   "execution_count": 616,
   "metadata": {},
   "outputs": [],
   "source": [
    "# data['type_of_shot']= data['type_of_shot'].astype(int)"
   ]
  },
  {
   "cell_type": "code",
   "execution_count": 617,
   "metadata": {},
   "outputs": [],
   "source": [
    "import math\n",
    "data['angle'] = data.apply(lambda x: 90 if x['location_y']==0 else math.degrees(math.atan(x['location_x']/abs(x['location_y']))),axis=1)"
   ]
  },
  {
   "cell_type": "code",
   "execution_count": 618,
   "metadata": {},
   "outputs": [],
   "source": [
    "data['angle_bin'] = pd.cut(data.angle, 8, labels=range(8))\n",
    "data['angle_bin'] = data.angle_bin.astype(int)"
   ]
  },
  {
   "cell_type": "code",
   "execution_count": 619,
   "metadata": {},
   "outputs": [
    {
     "data": {
      "text/plain": [
       "dtype('O')"
      ]
     },
     "execution_count": 619,
     "metadata": {},
     "output_type": "execute_result"
    }
   ],
   "source": [
    "data.type_of_shot.dtypes"
   ]
  },
  {
   "cell_type": "code",
   "execution_count": 620,
   "metadata": {},
   "outputs": [
    {
     "data": {
      "text/html": [
       "<div>\n",
       "<style scoped>\n",
       "    .dataframe tbody tr th:only-of-type {\n",
       "        vertical-align: middle;\n",
       "    }\n",
       "\n",
       "    .dataframe tbody tr th {\n",
       "        vertical-align: top;\n",
       "    }\n",
       "\n",
       "    .dataframe thead th {\n",
       "        text-align: right;\n",
       "    }\n",
       "</style>\n",
       "<table border=\"1\" class=\"dataframe\">\n",
       "  <thead>\n",
       "    <tr style=\"text-align: right;\">\n",
       "      <th></th>\n",
       "      <th>10</th>\n",
       "      <th>11</th>\n",
       "      <th>12</th>\n",
       "      <th>13</th>\n",
       "      <th>14</th>\n",
       "      <th>15</th>\n",
       "      <th>16</th>\n",
       "      <th>17</th>\n",
       "      <th>18</th>\n",
       "      <th>19</th>\n",
       "      <th>20</th>\n",
       "      <th>21</th>\n",
       "      <th>22</th>\n",
       "      <th>23</th>\n",
       "      <th>24</th>\n",
       "      <th>25</th>\n",
       "      <th>26</th>\n",
       "      <th>27</th>\n",
       "      <th>28</th>\n",
       "      <th>29</th>\n",
       "      <th>30</th>\n",
       "      <th>31</th>\n",
       "      <th>32</th>\n",
       "      <th>33</th>\n",
       "      <th>34</th>\n",
       "      <th>35</th>\n",
       "      <th>36</th>\n",
       "      <th>37</th>\n",
       "      <th>38</th>\n",
       "      <th>39</th>\n",
       "      <th>40</th>\n",
       "      <th>41</th>\n",
       "      <th>42</th>\n",
       "      <th>43</th>\n",
       "      <th>44</th>\n",
       "      <th>45</th>\n",
       "      <th>46</th>\n",
       "      <th>47</th>\n",
       "      <th>48</th>\n",
       "      <th>49</th>\n",
       "      <th>50</th>\n",
       "      <th>51</th>\n",
       "      <th>52</th>\n",
       "      <th>53</th>\n",
       "      <th>54</th>\n",
       "      <th>55</th>\n",
       "      <th>56</th>\n",
       "    </tr>\n",
       "  </thead>\n",
       "  <tbody>\n",
       "    <tr>\n",
       "      <th>0</th>\n",
       "      <td>0</td>\n",
       "      <td>0</td>\n",
       "      <td>0</td>\n",
       "      <td>0</td>\n",
       "      <td>0</td>\n",
       "      <td>0</td>\n",
       "      <td>0</td>\n",
       "      <td>0</td>\n",
       "      <td>0</td>\n",
       "      <td>0</td>\n",
       "      <td>0</td>\n",
       "      <td>0</td>\n",
       "      <td>0</td>\n",
       "      <td>0</td>\n",
       "      <td>0</td>\n",
       "      <td>0</td>\n",
       "      <td>0</td>\n",
       "      <td>0</td>\n",
       "      <td>0</td>\n",
       "      <td>0</td>\n",
       "      <td>1</td>\n",
       "      <td>0</td>\n",
       "      <td>0</td>\n",
       "      <td>0</td>\n",
       "      <td>0</td>\n",
       "      <td>0</td>\n",
       "      <td>0</td>\n",
       "      <td>0</td>\n",
       "      <td>0</td>\n",
       "      <td>0</td>\n",
       "      <td>0</td>\n",
       "      <td>0</td>\n",
       "      <td>0</td>\n",
       "      <td>0</td>\n",
       "      <td>0</td>\n",
       "      <td>0</td>\n",
       "      <td>0</td>\n",
       "      <td>0</td>\n",
       "      <td>0</td>\n",
       "      <td>0</td>\n",
       "      <td>0</td>\n",
       "      <td>0</td>\n",
       "      <td>0</td>\n",
       "      <td>0</td>\n",
       "      <td>0</td>\n",
       "      <td>0</td>\n",
       "      <td>0</td>\n",
       "    </tr>\n",
       "    <tr>\n",
       "      <th>1</th>\n",
       "      <td>0</td>\n",
       "      <td>0</td>\n",
       "      <td>0</td>\n",
       "      <td>0</td>\n",
       "      <td>0</td>\n",
       "      <td>0</td>\n",
       "      <td>0</td>\n",
       "      <td>0</td>\n",
       "      <td>0</td>\n",
       "      <td>0</td>\n",
       "      <td>0</td>\n",
       "      <td>0</td>\n",
       "      <td>0</td>\n",
       "      <td>0</td>\n",
       "      <td>0</td>\n",
       "      <td>0</td>\n",
       "      <td>0</td>\n",
       "      <td>0</td>\n",
       "      <td>0</td>\n",
       "      <td>0</td>\n",
       "      <td>0</td>\n",
       "      <td>0</td>\n",
       "      <td>0</td>\n",
       "      <td>0</td>\n",
       "      <td>0</td>\n",
       "      <td>0</td>\n",
       "      <td>0</td>\n",
       "      <td>0</td>\n",
       "      <td>0</td>\n",
       "      <td>0</td>\n",
       "      <td>0</td>\n",
       "      <td>0</td>\n",
       "      <td>0</td>\n",
       "      <td>0</td>\n",
       "      <td>0</td>\n",
       "      <td>1</td>\n",
       "      <td>0</td>\n",
       "      <td>0</td>\n",
       "      <td>0</td>\n",
       "      <td>0</td>\n",
       "      <td>0</td>\n",
       "      <td>0</td>\n",
       "      <td>0</td>\n",
       "      <td>0</td>\n",
       "      <td>0</td>\n",
       "      <td>0</td>\n",
       "      <td>0</td>\n",
       "    </tr>\n",
       "    <tr>\n",
       "      <th>2</th>\n",
       "      <td>0</td>\n",
       "      <td>0</td>\n",
       "      <td>0</td>\n",
       "      <td>0</td>\n",
       "      <td>0</td>\n",
       "      <td>0</td>\n",
       "      <td>0</td>\n",
       "      <td>0</td>\n",
       "      <td>0</td>\n",
       "      <td>0</td>\n",
       "      <td>0</td>\n",
       "      <td>0</td>\n",
       "      <td>0</td>\n",
       "      <td>0</td>\n",
       "      <td>0</td>\n",
       "      <td>1</td>\n",
       "      <td>0</td>\n",
       "      <td>0</td>\n",
       "      <td>0</td>\n",
       "      <td>0</td>\n",
       "      <td>0</td>\n",
       "      <td>0</td>\n",
       "      <td>0</td>\n",
       "      <td>0</td>\n",
       "      <td>0</td>\n",
       "      <td>0</td>\n",
       "      <td>0</td>\n",
       "      <td>0</td>\n",
       "      <td>0</td>\n",
       "      <td>0</td>\n",
       "      <td>0</td>\n",
       "      <td>0</td>\n",
       "      <td>0</td>\n",
       "      <td>0</td>\n",
       "      <td>0</td>\n",
       "      <td>0</td>\n",
       "      <td>0</td>\n",
       "      <td>0</td>\n",
       "      <td>0</td>\n",
       "      <td>0</td>\n",
       "      <td>0</td>\n",
       "      <td>0</td>\n",
       "      <td>0</td>\n",
       "      <td>0</td>\n",
       "      <td>0</td>\n",
       "      <td>0</td>\n",
       "      <td>0</td>\n",
       "    </tr>\n",
       "    <tr>\n",
       "      <th>3</th>\n",
       "      <td>0</td>\n",
       "      <td>0</td>\n",
       "      <td>0</td>\n",
       "      <td>0</td>\n",
       "      <td>0</td>\n",
       "      <td>0</td>\n",
       "      <td>0</td>\n",
       "      <td>0</td>\n",
       "      <td>0</td>\n",
       "      <td>0</td>\n",
       "      <td>0</td>\n",
       "      <td>0</td>\n",
       "      <td>0</td>\n",
       "      <td>0</td>\n",
       "      <td>0</td>\n",
       "      <td>0</td>\n",
       "      <td>0</td>\n",
       "      <td>0</td>\n",
       "      <td>0</td>\n",
       "      <td>0</td>\n",
       "      <td>0</td>\n",
       "      <td>0</td>\n",
       "      <td>0</td>\n",
       "      <td>0</td>\n",
       "      <td>0</td>\n",
       "      <td>0</td>\n",
       "      <td>0</td>\n",
       "      <td>0</td>\n",
       "      <td>0</td>\n",
       "      <td>0</td>\n",
       "      <td>0</td>\n",
       "      <td>0</td>\n",
       "      <td>0</td>\n",
       "      <td>0</td>\n",
       "      <td>0</td>\n",
       "      <td>0</td>\n",
       "      <td>0</td>\n",
       "      <td>0</td>\n",
       "      <td>0</td>\n",
       "      <td>0</td>\n",
       "      <td>0</td>\n",
       "      <td>0</td>\n",
       "      <td>0</td>\n",
       "      <td>0</td>\n",
       "      <td>0</td>\n",
       "      <td>0</td>\n",
       "      <td>0</td>\n",
       "    </tr>\n",
       "    <tr>\n",
       "      <th>4</th>\n",
       "      <td>0</td>\n",
       "      <td>0</td>\n",
       "      <td>0</td>\n",
       "      <td>0</td>\n",
       "      <td>0</td>\n",
       "      <td>0</td>\n",
       "      <td>0</td>\n",
       "      <td>0</td>\n",
       "      <td>0</td>\n",
       "      <td>0</td>\n",
       "      <td>0</td>\n",
       "      <td>0</td>\n",
       "      <td>0</td>\n",
       "      <td>0</td>\n",
       "      <td>0</td>\n",
       "      <td>0</td>\n",
       "      <td>0</td>\n",
       "      <td>0</td>\n",
       "      <td>0</td>\n",
       "      <td>0</td>\n",
       "      <td>0</td>\n",
       "      <td>0</td>\n",
       "      <td>0</td>\n",
       "      <td>0</td>\n",
       "      <td>0</td>\n",
       "      <td>0</td>\n",
       "      <td>0</td>\n",
       "      <td>0</td>\n",
       "      <td>0</td>\n",
       "      <td>0</td>\n",
       "      <td>0</td>\n",
       "      <td>0</td>\n",
       "      <td>0</td>\n",
       "      <td>0</td>\n",
       "      <td>0</td>\n",
       "      <td>0</td>\n",
       "      <td>0</td>\n",
       "      <td>0</td>\n",
       "      <td>0</td>\n",
       "      <td>0</td>\n",
       "      <td>0</td>\n",
       "      <td>0</td>\n",
       "      <td>0</td>\n",
       "      <td>0</td>\n",
       "      <td>0</td>\n",
       "      <td>0</td>\n",
       "      <td>0</td>\n",
       "    </tr>\n",
       "  </tbody>\n",
       "</table>\n",
       "</div>"
      ],
      "text/plain": [
       "   10  11  12  13  14  15  16  17  18  19  20  21  22  23  24  25  26  27  28  \\\n",
       "0   0   0   0   0   0   0   0   0   0   0   0   0   0   0   0   0   0   0   0   \n",
       "1   0   0   0   0   0   0   0   0   0   0   0   0   0   0   0   0   0   0   0   \n",
       "2   0   0   0   0   0   0   0   0   0   0   0   0   0   0   0   1   0   0   0   \n",
       "3   0   0   0   0   0   0   0   0   0   0   0   0   0   0   0   0   0   0   0   \n",
       "4   0   0   0   0   0   0   0   0   0   0   0   0   0   0   0   0   0   0   0   \n",
       "\n",
       "   29  30  31  32  33  34  35  36  37  38  39  40  41  42  43  44  45  46  47  \\\n",
       "0   0   1   0   0   0   0   0   0   0   0   0   0   0   0   0   0   0   0   0   \n",
       "1   0   0   0   0   0   0   0   0   0   0   0   0   0   0   0   0   1   0   0   \n",
       "2   0   0   0   0   0   0   0   0   0   0   0   0   0   0   0   0   0   0   0   \n",
       "3   0   0   0   0   0   0   0   0   0   0   0   0   0   0   0   0   0   0   0   \n",
       "4   0   0   0   0   0   0   0   0   0   0   0   0   0   0   0   0   0   0   0   \n",
       "\n",
       "   48  49  50  51  52  53  54  55  56  \n",
       "0   0   0   0   0   0   0   0   0   0  \n",
       "1   0   0   0   0   0   0   0   0   0  \n",
       "2   0   0   0   0   0   0   0   0   0  \n",
       "3   0   0   0   0   0   0   0   0   0  \n",
       "4   0   0   0   0   0   0   0   0   0  "
      ]
     },
     "execution_count": 620,
     "metadata": {},
     "output_type": "execute_result"
    }
   ],
   "source": [
    "from sklearn.feature_extraction.text import CountVectorizer\n",
    "cv = CountVectorizer(max_features=57, stop_words=['shot','-'])\n",
    "shot_features = cv.fit_transform(data['type_of_shot']).toarray()\n",
    "shot_features = pd.DataFrame(shot_features, columns=cv.get_feature_names())\n",
    "shot_features.head()"
   ]
  },
  {
   "cell_type": "code",
   "execution_count": 621,
   "metadata": {},
   "outputs": [],
   "source": [
    "data = pd.concat([data,shot_features], axis=1)"
   ]
  },
  {
   "cell_type": "code",
   "execution_count": 622,
   "metadata": {},
   "outputs": [],
   "source": [
    "data['distance_bin'] = pd.cut(data.distance_of_shot, bins=10, labels=range(10))\n",
    "\n",
    "data['distance_bin'] = data.distance_bin.astype(int)"
   ]
  },
  {
   "cell_type": "code",
   "execution_count": 623,
   "metadata": {},
   "outputs": [],
   "source": [
    "ang_dist = data.groupby(['angle_bin', 'distance_bin'])['is_goal'].agg([np.mean],as_index= False).reset_index()"
   ]
  },
  {
   "cell_type": "code",
   "execution_count": 624,
   "metadata": {},
   "outputs": [],
   "source": [
    "ang_dist['group'] = range(len(ang_dist))\n",
    "\n",
    "ang_dist.drop('mean', inplace=True, axis=1)"
   ]
  },
  {
   "cell_type": "code",
   "execution_count": 625,
   "metadata": {},
   "outputs": [
    {
     "data": {
      "text/html": [
       "<div>\n",
       "<style scoped>\n",
       "    .dataframe tbody tr th:only-of-type {\n",
       "        vertical-align: middle;\n",
       "    }\n",
       "\n",
       "    .dataframe tbody tr th {\n",
       "        vertical-align: top;\n",
       "    }\n",
       "\n",
       "    .dataframe thead th {\n",
       "        text-align: right;\n",
       "    }\n",
       "</style>\n",
       "<table border=\"1\" class=\"dataframe\">\n",
       "  <thead>\n",
       "    <tr style=\"text-align: right;\">\n",
       "      <th></th>\n",
       "      <th>angle_bin</th>\n",
       "      <th>distance_bin</th>\n",
       "      <th>group</th>\n",
       "    </tr>\n",
       "  </thead>\n",
       "  <tbody>\n",
       "    <tr>\n",
       "      <th>0</th>\n",
       "      <td>0</td>\n",
       "      <td>0</td>\n",
       "      <td>0</td>\n",
       "    </tr>\n",
       "    <tr>\n",
       "      <th>1</th>\n",
       "      <td>0</td>\n",
       "      <td>1</td>\n",
       "      <td>1</td>\n",
       "    </tr>\n",
       "    <tr>\n",
       "      <th>2</th>\n",
       "      <td>0</td>\n",
       "      <td>2</td>\n",
       "      <td>2</td>\n",
       "    </tr>\n",
       "    <tr>\n",
       "      <th>3</th>\n",
       "      <td>0</td>\n",
       "      <td>3</td>\n",
       "      <td>3</td>\n",
       "    </tr>\n",
       "    <tr>\n",
       "      <th>4</th>\n",
       "      <td>1</td>\n",
       "      <td>0</td>\n",
       "      <td>4</td>\n",
       "    </tr>\n",
       "  </tbody>\n",
       "</table>\n",
       "</div>"
      ],
      "text/plain": [
       "   angle_bin  distance_bin  group\n",
       "0          0             0      0\n",
       "1          0             1      1\n",
       "2          0             2      2\n",
       "3          0             3      3\n",
       "4          1             0      4"
      ]
     },
     "execution_count": 625,
     "metadata": {},
     "output_type": "execute_result"
    }
   ],
   "source": [
    "ang_dist.head()"
   ]
  },
  {
   "cell_type": "code",
   "execution_count": 626,
   "metadata": {},
   "outputs": [
    {
     "data": {
      "text/plain": [
       "(30697, 75)"
      ]
     },
     "execution_count": 626,
     "metadata": {},
     "output_type": "execute_result"
    }
   ],
   "source": [
    "data.shape"
   ]
  },
  {
   "cell_type": "code",
   "execution_count": 627,
   "metadata": {},
   "outputs": [],
   "source": [
    "data = data.merge(ang_dist, 'left', ['angle_bin', 'distance_bin'])"
   ]
  },
  {
   "cell_type": "code",
   "execution_count": 628,
   "metadata": {},
   "outputs": [
    {
     "data": {
      "text/plain": [
       "Index(['match_event_id', 'location_x', 'location_y', 'power_of_shot',\n",
       "       'knockout_match', 'game_season', 'distance_of_shot', 'is_goal',\n",
       "       'area_of_shot', 'shot_basics', 'range_of_shot', 'team_name',\n",
       "       'date_of_game', 'home', 'shot_id_number', 'lat', 'type_of_shot',\n",
       "       'match_id', 'remaining_min', 'remaining_sec', 'source',\n",
       "       'game_date_month', 'game_date_quarter', 'time_remaining', 'timeUnder4',\n",
       "       'angle', 'angle_bin', '10', '11', '12', '13', '14', '15', '16', '17',\n",
       "       '18', '19', '20', '21', '22', '23', '24', '25', '26', '27', '28', '29',\n",
       "       '30', '31', '32', '33', '34', '35', '36', '37', '38', '39', '40', '41',\n",
       "       '42', '43', '44', '45', '46', '47', '48', '49', '50', '51', '52', '53',\n",
       "       '54', '55', '56', 'distance_bin', 'group'],\n",
       "      dtype='object')"
      ]
     },
     "execution_count": 628,
     "metadata": {},
     "output_type": "execute_result"
    }
   ],
   "source": [
    "data.columns"
   ]
  },
  {
   "cell_type": "code",
   "execution_count": 629,
   "metadata": {},
   "outputs": [],
   "source": [
    "final = data.drop(['match_event_id','knockout_match', 'game_season','date_of_game','team_name', 'match_id', 'remaining_min',\n",
    "                   'remaining_sec','shot_id_number', 'lat',],axis=1)"
   ]
  },
  {
   "cell_type": "code",
   "execution_count": 630,
   "metadata": {},
   "outputs": [],
   "source": [
    "final.drop(['10','11','19','21','26','27','28','33','35','40','41','45','48','55','type_of_shot'],axis=1,inplace=True)"
   ]
  },
  {
   "cell_type": "code",
   "execution_count": 633,
   "metadata": {},
   "outputs": [],
   "source": [
    "le = LabelEncoder()\n",
    "col = ['area_of_shot', 'shot_basics', 'range_of_shot']\n",
    "for col in final:\n",
    "        final[col] = le.fit_transform(final[col])"
   ]
  },
  {
   "cell_type": "code",
   "execution_count": 642,
   "metadata": {},
   "outputs": [],
   "source": [
    "train = final[final['source']==1]\n",
    "test = final[final['source']==0]"
   ]
  },
  {
   "cell_type": "code",
   "execution_count": 643,
   "metadata": {},
   "outputs": [],
   "source": [
    "train.drop('source',axis=1,inplace=True)\n",
    "test.drop(['source','is_goal'],axis=1,inplace=True)"
   ]
  },
  {
   "cell_type": "code",
   "execution_count": 644,
   "metadata": {},
   "outputs": [
    {
     "data": {
      "text/plain": [
       "((24429, 50), (6268, 49))"
      ]
     },
     "execution_count": 644,
     "metadata": {},
     "output_type": "execute_result"
    }
   ],
   "source": [
    "train.shape,test.shape"
   ]
  },
  {
   "cell_type": "code",
   "execution_count": 645,
   "metadata": {},
   "outputs": [],
   "source": [
    "x_train= train.drop('is_goal',axis=1)\n",
    "y_train = train['is_goal']"
   ]
  },
  {
   "cell_type": "code",
   "execution_count": 654,
   "metadata": {},
   "outputs": [],
   "source": [
    "x_train, x_test,y_train,y_test = train_test_split(x_train,y_train, test_size = 0.1, random_state =2)"
   ]
  },
  {
   "cell_type": "code",
   "execution_count": 655,
   "metadata": {},
   "outputs": [],
   "source": [
    "xgb = XGBClassifier(seed=1, learning_rate=0.01, n_estimators=500,silent=False, max_depth=7, subsample=0.6, colsample_bytree=0.6)"
   ]
  },
  {
   "cell_type": "code",
   "execution_count": 656,
   "metadata": {},
   "outputs": [],
   "source": [
    "xgb_params={\n",
    "            \"gamma\":[9,11,10],\n",
    "            \"min_child_weight\":[5,6,4]\n",
    "            }"
   ]
  },
  {
   "cell_type": "code",
   "execution_count": 657,
   "metadata": {},
   "outputs": [],
   "source": [
    "grid_search=GridSearchCV(xgb,cv=10,param_grid=xgb_params,scoring='roc_auc',verbose=2,n_jobs=-1)"
   ]
  },
  {
   "cell_type": "code",
   "execution_count": 658,
   "metadata": {},
   "outputs": [
    {
     "name": "stdout",
     "output_type": "stream",
     "text": [
      "Fitting 10 folds for each of 9 candidates, totalling 90 fits\n"
     ]
    },
    {
     "name": "stderr",
     "output_type": "stream",
     "text": [
      "[Parallel(n_jobs=-1)]: Using backend LokyBackend with 16 concurrent workers.\n",
      "[Parallel(n_jobs=-1)]: Done   9 tasks      | elapsed:   41.4s\n",
      "[Parallel(n_jobs=-1)]: Done  90 out of  90 | elapsed:  3.3min finished\n"
     ]
    },
    {
     "data": {
      "text/plain": [
       "GridSearchCV(cv=10, error_score='raise-deprecating',\n",
       "       estimator=XGBClassifier(base_score=0.5, booster='gbtree', colsample_bylevel=1,\n",
       "       colsample_bynode=1, colsample_bytree=0.6, gamma=0,\n",
       "       learning_rate=0.01, max_delta_step=0, max_depth=7,\n",
       "       min_child_weight=1, missing=None, n_estimators=500, n_jobs=1,\n",
       "       nthread=None, objective='binary:logistic', random_state=0,\n",
       "       reg_alpha=0, reg_lambda=1, scale_pos_weight=1, seed=1, silent=False,\n",
       "       subsample=0.6, verbosity=1),\n",
       "       fit_params=None, iid='warn', n_jobs=-1,\n",
       "       param_grid={'gamma': [9, 11, 10], 'min_child_weight': [5, 6, 4]},\n",
       "       pre_dispatch='2*n_jobs', refit=True, return_train_score='warn',\n",
       "       scoring='roc_auc', verbose=2)"
      ]
     },
     "execution_count": 658,
     "metadata": {},
     "output_type": "execute_result"
    }
   ],
   "source": [
    "grid_search.fit(x_train,y_train)"
   ]
  },
  {
   "cell_type": "code",
   "execution_count": 659,
   "metadata": {},
   "outputs": [
    {
     "name": "stdout",
     "output_type": "stream",
     "text": [
      "Model with rank: 1\n",
      "Mean validation score: 0.644 (std: 0.01430)\n",
      "Parameters: {'gamma': 9, 'min_child_weight': 4}\n",
      "\n",
      "Model with rank: 2\n",
      "Mean validation score: 0.644 (std: 0.01408)\n",
      "Parameters: {'gamma': 9, 'min_child_weight': 5}\n",
      "\n"
     ]
    }
   ],
   "source": [
    "report(grid_search.cv_results_,2)"
   ]
  },
  {
   "cell_type": "code",
   "execution_count": 660,
   "metadata": {},
   "outputs": [],
   "source": [
    "gf= grid_search.best_estimator_"
   ]
  },
  {
   "cell_type": "code",
   "execution_count": 661,
   "metadata": {},
   "outputs": [
    {
     "data": {
      "text/plain": [
       "XGBClassifier(base_score=0.5, booster='gbtree', colsample_bylevel=1,\n",
       "       colsample_bynode=1, colsample_bytree=0.6, gamma=9,\n",
       "       learning_rate=0.01, max_delta_step=0, max_depth=7,\n",
       "       min_child_weight=4, missing=None, n_estimators=500, n_jobs=1,\n",
       "       nthread=None, objective='binary:logistic', random_state=0,\n",
       "       reg_alpha=0, reg_lambda=1, scale_pos_weight=1, seed=1, silent=False,\n",
       "       subsample=0.6, verbosity=1)"
      ]
     },
     "execution_count": 661,
     "metadata": {},
     "output_type": "execute_result"
    }
   ],
   "source": [
    "gf.fit(x_train,y_train)"
   ]
  },
  {
   "cell_type": "code",
   "execution_count": 662,
   "metadata": {},
   "outputs": [
    {
     "data": {
      "text/plain": [
       "0.6003268306244364"
      ]
     },
     "execution_count": 662,
     "metadata": {},
     "output_type": "execute_result"
    }
   ],
   "source": [
    "predicted = gf.predict(x_test)\n",
    "roc_auc_score(y_test,predicted)"
   ]
  },
  {
   "cell_type": "code",
   "execution_count": 663,
   "metadata": {},
   "outputs": [
    {
     "data": {
      "text/plain": [
       "array([[1195,  158],\n",
       "       [ 744,  346]], dtype=int64)"
      ]
     },
     "execution_count": 663,
     "metadata": {},
     "output_type": "execute_result"
    }
   ],
   "source": [
    "confusion_matrix(y_test, predicted)"
   ]
  },
  {
   "cell_type": "code",
   "execution_count": 667,
   "metadata": {},
   "outputs": [
    {
     "data": {
      "text/plain": [
       "((21986, 49), (6268, 49))"
      ]
     },
     "execution_count": 667,
     "metadata": {},
     "output_type": "execute_result"
    }
   ],
   "source": [
    "x_train.shape,test.shape"
   ]
  },
  {
   "cell_type": "code",
   "execution_count": 668,
   "metadata": {},
   "outputs": [],
   "source": [
    "predicted = gf.predict_proba(test)\n",
    "submission = pd.read_csv(r'./sample_submission.csv')\n",
    "submission['is_goal'] = predicted\n",
    "submission.to_csv('submission.csv',index=False)"
   ]
  },
  {
   "cell_type": "code",
   "execution_count": 664,
   "metadata": {},
   "outputs": [
    {
     "data": {
      "text/plain": [
       "[('location_x', 0.013938872),\n",
       " ('location_y', 0.0184361),\n",
       " ('power_of_shot', 0.014037895),\n",
       " ('distance_of_shot', 0.06958388),\n",
       " ('is_goal', 0.02627429),\n",
       " ('area_of_shot', 0.09832085),\n",
       " ('shot_basics', 0.07999937),\n",
       " ('range_of_shot', 0.013510021),\n",
       " ('home', 0.011872682),\n",
       " ('game_date_month', 0.013340564),\n",
       " ('game_date_quarter', 0.017809926),\n",
       " ('time_remaining', 0.031225987),\n",
       " ('timeUnder4', 0.013358255),\n",
       " ('angle', 0.024183871),\n",
       " ('angle_bin', 0.025075132),\n",
       " ('12', 0.009694421),\n",
       " ('13', 0.0119178),\n",
       " ('14', 0.019637901),\n",
       " ('15', 0.013900914),\n",
       " ('16', 0.02041488),\n",
       " ('17', 0.008443263),\n",
       " ('18', 0.010052444),\n",
       " ('20', 0.0),\n",
       " ('22', 0.009656652),\n",
       " ('23', 0.009136305),\n",
       " ('24', 0.010141414),\n",
       " ('25', 0.013999073),\n",
       " ('29', 0.012387889),\n",
       " ('30', 0.013255088),\n",
       " ('31', 0.02135766),\n",
       " ('32', 0.008715653),\n",
       " ('34', 0.015934918),\n",
       " ('36', 0.0),\n",
       " ('37', 0.01785779),\n",
       " ('38', 0.06349518),\n",
       " ('39', 0.0066825813),\n",
       " ('42', 0.01364314),\n",
       " ('43', 0.038225073),\n",
       " ('44', 0.010715144),\n",
       " ('46', 0.0),\n",
       " ('47', 0.016774585),\n",
       " ('49', 0.011850455),\n",
       " ('50', 0.0129792765),\n",
       " ('51', 0.018684976),\n",
       " ('52', 0.013216701),\n",
       " ('53', 0.008901901),\n",
       " ('54', 0.012741855),\n",
       " ('56', 0.059841517),\n",
       " ('distance_bin', 0.014775756)]"
      ]
     },
     "execution_count": 664,
     "metadata": {},
     "output_type": "execute_result"
    }
   ],
   "source": [
    "list(zip(train.columns,  gf.feature_importances_))"
   ]
  },
  {
   "cell_type": "code",
   "execution_count": null,
   "metadata": {},
   "outputs": [],
   "source": []
  },
  {
   "cell_type": "code",
   "execution_count": 669,
   "metadata": {},
   "outputs": [],
   "source": [
    "X= train.drop('is_goal',axis=1)\n",
    "Y = train['is_goal']"
   ]
  },
  {
   "cell_type": "code",
   "execution_count": 671,
   "metadata": {},
   "outputs": [],
   "source": [
    "from sklearn.preprocessing import LabelEncoder\n",
    "from sklearn.feature_extraction.text import CountVectorizer\n",
    "from sklearn.model_selection import KFold, cross_val_score, GridSearchCV\n",
    "from sklearn.linear_model import LogisticRegression\n",
    "from sklearn.discriminant_analysis import LinearDiscriminantAnalysis\n",
    "from sklearn.neighbors import KNeighborsClassifier\n",
    "from sklearn.tree import DecisionTreeClassifier\n",
    "from sklearn.naive_bayes import GaussianNB\n",
    "from sklearn.svm import SVC\n",
    "from sklearn.ensemble import BaggingClassifier, ExtraTreesClassifier, GradientBoostingClassifier, VotingClassifier, RandomForestClassifier, AdaBoostClassifier\n",
    "import xgboost as xgb\n",
    "from sklearn.feature_selection import VarianceThreshold, RFE, SelectKBest, chi2\n",
    "from sklearn.feature_selection import RFECV\n",
    "from sklearn.preprocessing import MinMaxScaler"
   ]
  },
  {
   "cell_type": "code",
   "execution_count": 672,
   "metadata": {},
   "outputs": [
    {
     "name": "stdout",
     "output_type": "stream",
     "text": [
      "[-0.64960185 -0.64987683 -0.65614363 -0.65524241 -0.65023143]\n",
      "Logistic regression: (-0.652) +/- (0.003)\n",
      "[-1.33494008 -1.38315532 -1.31658134 -1.33793405 -1.367608  ]\n",
      "Random Forest: (-1.348) +/- (0.024)\n",
      "[-0.69061584 -0.69018865 -0.69081648 -0.69055186 -0.69072195]\n",
      "Ada Boost: (-0.691) +/- (0.000)\n",
      "[-0.64449265 -0.64549735 -0.64761153 -0.6457941  -0.64592863]\n",
      "Gradient Boosting: (-0.646) +/- (0.001)\n",
      "[-0.64416411 -0.64534335 -0.64736964 -0.64524802 -0.64596241]\n",
      "XGBoost: (-0.646) +/- (0.001)\n"
     ]
    },
    {
     "data": {
      "image/png": "[encoded data removed]",
      "text/plain": [
       "<Figure size 432x288 with 1 Axes>"
      ]
     },
     "metadata": {
      "needs_background": "light"
     },
     "output_type": "display_data"
    },
    {
     "data": {
      "text/plain": [
       "XGBClassifier(base_score=0.5, booster='gbtree', colsample_bylevel=1,\n",
       "       colsample_bynode=1, colsample_bytree=0.6, gamma=0,\n",
       "       learning_rate=0.01, max_delta_step=0, max_depth=7,\n",
       "       min_child_weight=1, missing=None, n_estimators=500, n_jobs=1,\n",
       "       nthread=None, objective='binary:logistic', random_state=0,\n",
       "       reg_alpha=0, reg_lambda=1, scale_pos_weight=1, seed=1, silent=None,\n",
       "       subsample=0.6, verbosity=1)"
      ]
     },
     "execution_count": 672,
     "metadata": {},
     "output_type": "execute_result"
    }
   ],
   "source": [
    "seed =50\n",
    "processors=1\n",
    "num_folds=5\n",
    "num_instances=len(X)\n",
    "scoring='neg_log_loss'\n",
    "\n",
    "\n",
    "num_trees = 100\n",
    "num_features = 20\n",
    "# Prepare some basic models\n",
    "\n",
    "seed = 50\n",
    "num_folds = 5\n",
    "kfold = KFold(n_splits=num_folds, random_state=seed, shuffle = True)\n",
    "\n",
    "models = []\n",
    "models.append(('Logistic regression', LogisticRegression()))\n",
    "models.append(('Random Forest', RandomForestClassifier()))\n",
    "models.append(('Ada Boost', AdaBoostClassifier()))\n",
    "models.append(('Gradient Boosting', GradientBoostingClassifier()))\n",
    "models.append(('XGBoost', xgb.XGBClassifier()))\n",
    "\n",
    "#models.append(('LDA', LinearDiscriminantAnalysis()))\n",
    "#models.append(('K-NN', KNeighborsClassifier(n_neighbors=5)))\n",
    "#models.append(('Decision Tree', DecisionTreeClassifier()))\n",
    "#models.append(('NB', GaussianNB()))\n",
    "#models.append(('BAGGED',BaggingClassifier()))\n",
    "#models.append(('SVC', SVC(probability=True)))\n",
    "\n",
    "# Evaluate each model in turn\n",
    "results = []\n",
    "names = []\n",
    "stds = []\n",
    "means =[]\n",
    "for name, model in models:\n",
    "    cv_results = cross_val_score(model, X, Y, cv=kfold, scoring='neg_log_loss', n_jobs=1)\n",
    "    print(cv_results)\n",
    "    print(\"{0}: ({1:.3f}) +/- ({2:.3f})\".format(name, cv_results.mean(), cv_results.std()))\n",
    "    results.append(cv_results)\n",
    "    names.append(name)\n",
    "    stds.append(cv_results.std())\n",
    "    means.append(abs(cv_results.mean()))\n",
    "\n",
    "    \n",
    "x_pos = np.arange(len(models))\n",
    "# Build the plot\n",
    "fig, ax = plt.subplots()\n",
    "rects1 = ax.bar(x_pos, means, yerr=stds, align='center', alpha=0.5, ecolor='black', capsize=10)\n",
    "ax.set_ylabel('Absolute value of Logarithmic loss')\n",
    "ax.set_xticks(x_pos)\n",
    "ax.set_xticklabels(names)\n",
    "ax.set_title('Machine learning models')\n",
    "ax.yaxis.grid(True)\n",
    "plt.subplots_adjust(top=1.1)\n",
    "\n",
    "def autolabel(rects):\n",
    "    \"\"\"\n",
    "    Attach a text label above each bar displaying its height\n",
    "    \"\"\"\n",
    "    for rect in rects:\n",
    "        height = rect.get_height()\n",
    "        ax.text(rect.get_x() + rect.get_width()/2., 1.04*height,\n",
    "                '%.3f' % height,\n",
    "                ha='center', va='bottom')\n",
    "\n",
    "autolabel(rects1)\n",
    "# Save the figure and show\n",
    "#plt.tight_layout()\n",
    "plt.xticks(rotation='vertical')\n",
    "plt.show()\n",
    "    \n",
    "#model = xgb.XGBClassifier(seed=1, learning_rate=0.01, n_estimators=500, max_depth=7, subsample=0.8, colsample_bytree=0.6)\n",
    "\n",
    "model = xgb.XGBClassifier(seed=1, learning_rate=0.01, n_estimators=500, max_depth=7, subsample=0.6, colsample_bytree=0.6)\n",
    "model.fit(X, Y)\n"
   ]
  },
  {
   "cell_type": "code",
   "execution_count": 673,
   "metadata": {},
   "outputs": [
    {
     "data": {
      "text/plain": [
       "[('location_x', 0.010097684),\n",
       " ('location_y', 0.010722161),\n",
       " ('power_of_shot', 0.00812341),\n",
       " ('distance_of_shot', 0.036499474),\n",
       " ('is_goal', 0.008818914),\n",
       " ('area_of_shot', 0.073203325),\n",
       " ('shot_basics', 0.025425132),\n",
       " ('range_of_shot', 0.008487323),\n",
       " ('home', 0.007270283),\n",
       " ('game_date_month', 0.006310361),\n",
       " ('game_date_quarter', 0.011256818),\n",
       " ('time_remaining', 0.029048562),\n",
       " ('timeUnder4', 0.0103098275),\n",
       " ('angle', 0.0068904352),\n",
       " ('angle_bin', 0.040643997),\n",
       " ('12', 0.014516927),\n",
       " ('13', 0.0119947),\n",
       " ('14', 0.026784413),\n",
       " ('15', 0.016830113),\n",
       " ('16', 0.029676847),\n",
       " ('17', 0.010872385),\n",
       " ('18', 0.014299958),\n",
       " ('20', 0.011109428),\n",
       " ('22', 0.014291042),\n",
       " ('23', 0.01112173),\n",
       " ('24', 0.015857112),\n",
       " ('25', 0.013838856),\n",
       " ('29', 0.013688852),\n",
       " ('30', 0.016821831),\n",
       " ('31', 0.032789085),\n",
       " ('32', 0.012527015),\n",
       " ('34', 0.018233927),\n",
       " ('36', 0.011184603),\n",
       " ('37', 0.022740565),\n",
       " ('38', 0.10347676),\n",
       " ('39', 0.012933718),\n",
       " ('42', 0.020643255),\n",
       " ('43', 0.06301346),\n",
       " ('44', 0.013562398),\n",
       " ('46', 0.012301696),\n",
       " ('47', 0.021184113),\n",
       " ('49', 0.016874807),\n",
       " ('50', 0.018291779),\n",
       " ('51', 0.026200134),\n",
       " ('52', 0.013677862),\n",
       " ('53', 0.0134363435),\n",
       " ('54', 0.013103412),\n",
       " ('56', 0.030320965),\n",
       " ('distance_bin', 0.008692133)]"
      ]
     },
     "execution_count": 673,
     "metadata": {},
     "output_type": "execute_result"
    }
   ],
   "source": [
    "list(zip(train.columns,  model.feature_importances_))"
   ]
  },
  {
   "cell_type": "code",
   "execution_count": 674,
   "metadata": {},
   "outputs": [],
   "source": [
    "predicted = model.predict_proba(test)\n",
    "submission = pd.read_csv(r'./sample_submission.csv')\n",
    "submission['is_goal'] = predicted\n",
    "submission.to_csv('submission.csv',index=False)"
   ]
  },
  {
   "cell_type": "code",
   "execution_count": null,
   "metadata": {},
   "outputs": [],
   "source": []
  },
  {
   "cell_type": "code",
   "execution_count": null,
   "metadata": {},
   "outputs": [],
   "source": []
  },
  {
   "cell_type": "code",
   "execution_count": null,
   "metadata": {},
   "outputs": [],
   "source": []
  },
  {
   "cell_type": "code",
   "execution_count": null,
   "metadata": {},
   "outputs": [],
   "source": []
  },
  {
   "cell_type": "code",
   "execution_count": null,
   "metadata": {},
   "outputs": [],
   "source": []
  },
  {
   "cell_type": "code",
   "execution_count": null,
   "metadata": {},
   "outputs": [],
   "source": []
  },
  {
   "cell_type": "code",
   "execution_count": null,
   "metadata": {},
   "outputs": [],
   "source": []
  },
  {
   "cell_type": "code",
   "execution_count": null,
   "metadata": {},
   "outputs": [],
   "source": []
  },
  {
   "cell_type": "code",
   "execution_count": null,
   "metadata": {},
   "outputs": [],
   "source": []
  },
  {
   "cell_type": "code",
   "execution_count": null,
   "metadata": {},
   "outputs": [],
   "source": []
  },
  {
   "cell_type": "code",
   "execution_count": null,
   "metadata": {},
   "outputs": [],
   "source": []
  },
  {
   "cell_type": "code",
   "execution_count": null,
   "metadata": {},
   "outputs": [],
   "source": []
  },
  {
   "cell_type": "code",
   "execution_count": null,
   "metadata": {},
   "outputs": [],
   "source": []
  },
  {
   "cell_type": "code",
   "execution_count": null,
   "metadata": {},
   "outputs": [],
   "source": []
  },
  {
   "cell_type": "code",
   "execution_count": null,
   "metadata": {},
   "outputs": [],
   "source": []
  },
  {
   "cell_type": "code",
   "execution_count": null,
   "metadata": {},
   "outputs": [],
   "source": []
  },
  {
   "cell_type": "code",
   "execution_count": null,
   "metadata": {},
   "outputs": [],
   "source": []
  },
  {
   "cell_type": "code",
   "execution_count": null,
   "metadata": {},
   "outputs": [],
   "source": []
  },
  {
   "cell_type": "code",
   "execution_count": null,
   "metadata": {},
   "outputs": [],
   "source": []
  },
  {
   "cell_type": "code",
   "execution_count": null,
   "metadata": {},
   "outputs": [],
   "source": []
  },
  {
   "cell_type": "code",
   "execution_count": null,
   "metadata": {},
   "outputs": [],
   "source": []
  },
  {
   "cell_type": "code",
   "execution_count": null,
   "metadata": {},
   "outputs": [],
   "source": []
  },
  {
   "cell_type": "code",
   "execution_count": null,
   "metadata": {},
   "outputs": [],
   "source": []
  },
  {
   "cell_type": "code",
   "execution_count": null,
   "metadata": {},
   "outputs": [],
   "source": []
  },
  {
   "cell_type": "code",
   "execution_count": null,
   "metadata": {},
   "outputs": [],
   "source": []
  },
  {
   "cell_type": "code",
   "execution_count": null,
   "metadata": {},
   "outputs": [],
   "source": []
  },
  {
   "cell_type": "code",
   "execution_count": null,
   "metadata": {},
   "outputs": [],
   "source": []
  },
  {
   "cell_type": "code",
   "execution_count": null,
   "metadata": {},
   "outputs": [],
   "source": []
  },
  {
   "cell_type": "code",
   "execution_count": null,
   "metadata": {},
   "outputs": [],
   "source": []
  },
  {
   "cell_type": "code",
   "execution_count": null,
   "metadata": {},
   "outputs": [],
   "source": []
  },
  {
   "cell_type": "code",
   "execution_count": null,
   "metadata": {},
   "outputs": [],
   "source": []
  },
  {
   "cell_type": "code",
   "execution_count": null,
   "metadata": {},
   "outputs": [],
   "source": []
  },
  {
   "cell_type": "code",
   "execution_count": null,
   "metadata": {},
   "outputs": [],
   "source": []
  },
  {
   "cell_type": "code",
   "execution_count": null,
   "metadata": {},
   "outputs": [],
   "source": []
  },
  {
   "cell_type": "code",
   "execution_count": null,
   "metadata": {},
   "outputs": [],
   "source": []
  },
  {
   "cell_type": "code",
   "execution_count": null,
   "metadata": {},
   "outputs": [],
   "source": []
  },
  {
   "cell_type": "code",
   "execution_count": null,
   "metadata": {},
   "outputs": [],
   "source": []
  },
  {
   "cell_type": "code",
   "execution_count": null,
   "metadata": {},
   "outputs": [],
   "source": []
  },
  {
   "cell_type": "code",
   "execution_count": null,
   "metadata": {},
   "outputs": [],
   "source": []
  },
  {
   "cell_type": "code",
   "execution_count": null,
   "metadata": {},
   "outputs": [],
   "source": []
  },
  {
   "cell_type": "code",
   "execution_count": null,
   "metadata": {},
   "outputs": [],
   "source": []
  },
  {
   "cell_type": "code",
   "execution_count": null,
   "metadata": {},
   "outputs": [],
   "source": []
  },
  {
   "cell_type": "code",
   "execution_count": null,
   "metadata": {},
   "outputs": [],
   "source": []
  },
  {
   "cell_type": "code",
   "execution_count": null,
   "metadata": {},
   "outputs": [],
   "source": []
  },
  {
   "cell_type": "code",
   "execution_count": null,
   "metadata": {},
   "outputs": [],
   "source": []
  },
  {
   "cell_type": "code",
   "execution_count": null,
   "metadata": {},
   "outputs": [],
   "source": []
  },
  {
   "cell_type": "code",
   "execution_count": null,
   "metadata": {},
   "outputs": [],
   "source": []
  },
  {
   "cell_type": "code",
   "execution_count": null,
   "metadata": {},
   "outputs": [],
   "source": []
  },
  {
   "cell_type": "code",
   "execution_count": 381,
   "metadata": {},
   "outputs": [],
   "source": [
    "# #converting distance to bins\n",
    "# data['distance_bin'] = pd.cut(data.distance_of_shot, bins=10, labels=range(10))\n",
    "# data['distance_bin']= data['distance_bin'].astype(int)"
   ]
  },
  {
   "cell_type": "code",
   "execution_count": 382,
   "metadata": {},
   "outputs": [
    {
     "data": {
      "text/plain": [
       "match_event_id              float64\n",
       "location_x                    int64\n",
       "location_y                    int64\n",
       "power_of_shot               float64\n",
       "knockout_match              float64\n",
       "game_season                  object\n",
       "distance_of_shot              int64\n",
       "is_goal                     float64\n",
       "area_of_shot                 object\n",
       "shot_basics                  object\n",
       "range_of_shot                object\n",
       "team_name                    object\n",
       "date_of_game         datetime64[ns]\n",
       "home                          int64\n",
       "shot_id_number              float64\n",
       "lat                          object\n",
       "type_of_shot                  int32\n",
       "match_id                      int64\n",
       "remaining_min                 int64\n",
       "remaining_sec                 int64\n",
       "source                       object\n",
       "game_date_month               int64\n",
       "game_date_quarter             int64\n",
       "time_remaining                int64\n",
       "timeUnder4                    int64\n",
       "dtype: object"
      ]
     },
     "execution_count": 382,
     "metadata": {},
     "output_type": "execute_result"
    }
   ],
   "source": [
    "data.dtypes"
   ]
  },
  {
   "cell_type": "code",
   "execution_count": 457,
   "metadata": {},
   "outputs": [],
   "source": [
    "predicted = data.drop(['match_event_id','knockout_match', 'game_season','team_name',\n",
    "       'date_of_game', 'shot_id_number', 'lat',\n",
    "       'match_id', 'remaining_min', 'remaining_sec'],axis=1)"
   ]
  },
  {
   "cell_type": "code",
   "execution_count": 458,
   "metadata": {},
   "outputs": [
    {
     "data": {
      "text/plain": [
       "Index(['match_event_id', 'location_x', 'location_y', 'power_of_shot',\n",
       "       'knockout_match', 'game_season', 'distance_of_shot', 'is_goal',\n",
       "       'area_of_shot', 'shot_basics', 'range_of_shot', 'team_name',\n",
       "       'date_of_game', 'home', 'shot_id_number', 'lat', 'type_of_shot',\n",
       "       'match_id', 'remaining_min', 'remaining_sec', 'source',\n",
       "       'game_date_month', 'game_date_quarter', 'time_remaining', 'timeUnder4'],\n",
       "      dtype='object')"
      ]
     },
     "execution_count": 458,
     "metadata": {},
     "output_type": "execute_result"
    }
   ],
   "source": [
    "data.columns"
   ]
  },
  {
   "cell_type": "code",
   "execution_count": 459,
   "metadata": {},
   "outputs": [
    {
     "data": {
      "text/plain": [
       "((30697, 25), (30697, 15))"
      ]
     },
     "execution_count": 459,
     "metadata": {},
     "output_type": "execute_result"
    }
   ],
   "source": [
    "data.shape,predicted.shape"
   ]
  },
  {
   "cell_type": "code",
   "execution_count": 460,
   "metadata": {},
   "outputs": [
    {
     "data": {
      "text/plain": [
       "location_x             int64\n",
       "location_y             int64\n",
       "power_of_shot        float64\n",
       "distance_of_shot       int64\n",
       "is_goal              float64\n",
       "area_of_shot          object\n",
       "shot_basics           object\n",
       "range_of_shot         object\n",
       "home                   int64\n",
       "type_of_shot           int32\n",
       "source                object\n",
       "game_date_month        int64\n",
       "game_date_quarter      int64\n",
       "time_remaining         int64\n",
       "timeUnder4             int64\n",
       "dtype: object"
      ]
     },
     "execution_count": 460,
     "metadata": {},
     "output_type": "execute_result"
    }
   ],
   "source": [
    "predicted.dtypes"
   ]
  },
  {
   "cell_type": "code",
   "execution_count": 441,
   "metadata": {},
   "outputs": [],
   "source": [
    "# cate_features_index = ['shot_basics','range_of_shot','area_of_shot','type_of_shot']"
   ]
  },
  {
   "cell_type": "code",
   "execution_count": 461,
   "metadata": {},
   "outputs": [],
   "source": [
    "le = LabelEncoder()\n",
    "predicted['shot_basics'] = le.fit_transform(predicted['shot_basics'])\n",
    "predicted['range_of_shot'] = le.fit_transform(predicted['range_of_shot'])\n",
    "predicted['area_of_shot'] = le.fit_transform(predicted['area_of_shot'])"
   ]
  },
  {
   "cell_type": "code",
   "execution_count": 462,
   "metadata": {},
   "outputs": [],
   "source": [
    "train = predicted[predicted['source']=='train']\n",
    "test = predicted[predicted['source']=='test']"
   ]
  },
  {
   "cell_type": "code",
   "execution_count": 463,
   "metadata": {},
   "outputs": [],
   "source": [
    "train.drop('source',axis=1,inplace=True)\n",
    "test.drop(['source','is_goal'],axis=1,inplace=True)"
   ]
  },
  {
   "cell_type": "code",
   "execution_count": 464,
   "metadata": {},
   "outputs": [],
   "source": [
    "y_train = train['is_goal']\n",
    "x_train = train.drop('is_goal',axis=1)"
   ]
  },
  {
   "cell_type": "code",
   "execution_count": 465,
   "metadata": {},
   "outputs": [
    {
     "data": {
      "text/plain": [
       "((24429, 13), (6268, 13))"
      ]
     },
     "execution_count": 465,
     "metadata": {},
     "output_type": "execute_result"
    }
   ],
   "source": [
    "x_train.shape,test.shape"
   ]
  },
  {
   "cell_type": "code",
   "execution_count": 468,
   "metadata": {},
   "outputs": [],
   "source": [
    "from xgboost import XGBClassifier\n",
    "from sklearn.model_selection import GridSearchCV ,RandomizedSearchCV"
   ]
  },
  {
   "cell_type": "code",
   "execution_count": 469,
   "metadata": {},
   "outputs": [],
   "source": [
    "x_train, x_test,y_train,y_test = train_test_split(x_train,y_train, test_size = 0.2, random_state =2)"
   ]
  },
  {
   "cell_type": "code",
   "execution_count": 470,
   "metadata": {},
   "outputs": [
    {
     "data": {
      "text/plain": [
       "((19543, 13), (19543,), (4886, 13), (4886,))"
      ]
     },
     "execution_count": 470,
     "metadata": {},
     "output_type": "execute_result"
    }
   ],
   "source": [
    "x_train.shape,y_train.shape,x_test.shape,y_test.shape"
   ]
  },
  {
   "cell_type": "code",
   "execution_count": 220,
   "metadata": {},
   "outputs": [],
   "source": [
    "xgb_params = {  \n",
    "                \"n_estimators\":[1000,900,800]\n",
    "             }"
   ]
  },
  {
   "cell_type": "code",
   "execution_count": 221,
   "metadata": {},
   "outputs": [],
   "source": [
    "xgb1=XGBClassifier(learning_rate=0.01,subsample=0.8,colsample_bylevel=0.8,colsample_bytree=0.8)"
   ]
  },
  {
   "cell_type": "code",
   "execution_count": 222,
   "metadata": {},
   "outputs": [],
   "source": [
    "grid_search=GridSearchCV(xgb1,cv=5,param_grid=xgb_params,scoring='roc_auc',verbose=2,n_jobs=-1)"
   ]
  },
  {
   "cell_type": "code",
   "execution_count": 223,
   "metadata": {},
   "outputs": [
    {
     "name": "stdout",
     "output_type": "stream",
     "text": [
      "Fitting 5 folds for each of 3 candidates, totalling 15 fits\n"
     ]
    },
    {
     "name": "stderr",
     "output_type": "stream",
     "text": [
      "[Parallel(n_jobs=-1)]: Using backend LokyBackend with 16 concurrent workers.\n",
      "[Parallel(n_jobs=-1)]: Done   8 out of  15 | elapsed:   11.1s remaining:    9.7s\n",
      "[Parallel(n_jobs=-1)]: Done  15 out of  15 | elapsed:   12.9s finished\n"
     ]
    },
    {
     "data": {
      "text/plain": [
       "GridSearchCV(cv=5, error_score='raise-deprecating',\n",
       "       estimator=XGBClassifier(base_score=0.5, booster='gbtree', colsample_bylevel=0.8,\n",
       "       colsample_bynode=1, colsample_bytree=0.8, gamma=0,\n",
       "       learning_rate=0.01, max_delta_step=0, max_depth=3,\n",
       "       min_child_weight=1, missing=None, n_estimators=100, n_jobs=1,\n",
       "       nthread=None, objective='binary:logistic', random_state=0,\n",
       "       reg_alpha=0, reg_lambda=1, scale_pos_weight=1, seed=None,\n",
       "       silent=None, subsample=0.8, verbosity=1),\n",
       "       fit_params=None, iid='warn', n_jobs=-1,\n",
       "       param_grid={'n_estimators': [1000, 900, 800]},\n",
       "       pre_dispatch='2*n_jobs', refit=True, return_train_score='warn',\n",
       "       scoring='roc_auc', verbose=2)"
      ]
     },
     "execution_count": 223,
     "metadata": {},
     "output_type": "execute_result"
    }
   ],
   "source": [
    "grid_search.fit(x_train,y_train)"
   ]
  },
  {
   "cell_type": "code",
   "execution_count": 224,
   "metadata": {},
   "outputs": [
    {
     "name": "stdout",
     "output_type": "stream",
     "text": [
      "Model with rank: 1\n",
      "Mean validation score: 0.639 (std: 0.01175)\n",
      "Parameters: {'n_estimators': 1000}\n",
      "\n",
      "Model with rank: 2\n",
      "Mean validation score: 0.639 (std: 0.01177)\n",
      "Parameters: {'n_estimators': 900}\n",
      "\n",
      "Model with rank: 3\n",
      "Mean validation score: 0.638 (std: 0.01188)\n",
      "Parameters: {'n_estimators': 800}\n",
      "\n"
     ]
    }
   ],
   "source": [
    "report(grid_search.cv_results_,3)"
   ]
  },
  {
   "cell_type": "code",
   "execution_count": 225,
   "metadata": {},
   "outputs": [],
   "source": [
    "xgb_params={\n",
    "            \"gamma\":[9,11,10],\n",
    "            \"max_depth\": [6,7,8],\n",
    "            \"min_child_weight\":[5,6,4]\n",
    "            }"
   ]
  },
  {
   "cell_type": "code",
   "execution_count": 226,
   "metadata": {},
   "outputs": [],
   "source": [
    "xgb2=XGBClassifier(learning_rate=0.01,n_estimators=1000,subsample=0.8,colsample_bylevel=0.8,colsample_bytree=0.8)"
   ]
  },
  {
   "cell_type": "code",
   "execution_count": 227,
   "metadata": {},
   "outputs": [],
   "source": [
    "random_search=RandomizedSearchCV(xgb2,param_distributions=xgb_params,n_iter=20,cv=5,scoring='roc_auc',\n",
    "                                 n_jobs=-1,verbose=2)"
   ]
  },
  {
   "cell_type": "code",
   "execution_count": 228,
   "metadata": {},
   "outputs": [
    {
     "name": "stdout",
     "output_type": "stream",
     "text": [
      "Fitting 5 folds for each of 20 candidates, totalling 100 fits\n"
     ]
    },
    {
     "name": "stderr",
     "output_type": "stream",
     "text": [
      "[Parallel(n_jobs=-1)]: Using backend LokyBackend with 16 concurrent workers.\n",
      "[Parallel(n_jobs=-1)]: Done   9 tasks      | elapsed:   25.4s\n",
      "[Parallel(n_jobs=-1)]: Done 100 out of 100 | elapsed:  2.6min finished\n"
     ]
    },
    {
     "data": {
      "text/plain": [
       "RandomizedSearchCV(cv=5, error_score='raise-deprecating',\n",
       "          estimator=XGBClassifier(base_score=0.5, booster='gbtree', colsample_bylevel=0.8,\n",
       "       colsample_bynode=1, colsample_bytree=0.8, gamma=0,\n",
       "       learning_rate=0.01, max_delta_step=0, max_depth=3,\n",
       "       min_child_weight=1, missing=None, n_estimators=1000, n_jobs=1,\n",
       "       nthread=None, objective='binary:logistic', random_state=0,\n",
       "       reg_alpha=0, reg_lambda=1, scale_pos_weight=1, seed=None,\n",
       "       silent=None, subsample=0.8, verbosity=1),\n",
       "          fit_params=None, iid='warn', n_iter=20, n_jobs=-1,\n",
       "          param_distributions={'gamma': [9, 11, 10], 'max_depth': [6, 7, 8], 'min_child_weight': [5, 6, 4]},\n",
       "          pre_dispatch='2*n_jobs', random_state=None, refit=True,\n",
       "          return_train_score='warn', scoring='roc_auc', verbose=2)"
      ]
     },
     "execution_count": 228,
     "metadata": {},
     "output_type": "execute_result"
    }
   ],
   "source": [
    "random_search.fit(x_train,y_train)"
   ]
  },
  {
   "cell_type": "code",
   "execution_count": 229,
   "metadata": {},
   "outputs": [
    {
     "name": "stdout",
     "output_type": "stream",
     "text": [
      "Model with rank: 1\n",
      "Mean validation score: 0.644 (std: 0.01058)\n",
      "Parameters: {'min_child_weight': 5, 'max_depth': 8, 'gamma': 9}\n",
      "\n",
      "Model with rank: 2\n",
      "Mean validation score: 0.644 (std: 0.01068)\n",
      "Parameters: {'min_child_weight': 6, 'max_depth': 8, 'gamma': 9}\n",
      "\n",
      "Model with rank: 3\n",
      "Mean validation score: 0.643 (std: 0.01083)\n",
      "Parameters: {'min_child_weight': 6, 'max_depth': 7, 'gamma': 9}\n",
      "\n"
     ]
    }
   ],
   "source": [
    "report(random_search.cv_results_,3)"
   ]
  },
  {
   "cell_type": "code",
   "execution_count": 230,
   "metadata": {},
   "outputs": [],
   "source": [
    "xgb_params={\n",
    "            'max_delta_step':[0,1,3,6,10],\n",
    "            }"
   ]
  },
  {
   "cell_type": "code",
   "execution_count": 231,
   "metadata": {},
   "outputs": [],
   "source": [
    "xgb3=XGBClassifier(learning_rate=0.01,n_estimators=1000,min_child_weight=5,gamma=9,max_depth=8,\n",
    "                  subsample=0.8,colsample_bylevel=0.8,colsample_bytree=0.8)"
   ]
  },
  {
   "cell_type": "code",
   "execution_count": 232,
   "metadata": {},
   "outputs": [],
   "source": [
    "random_search=RandomizedSearchCV(xgb3,param_distributions=xgb_params,n_iter=5,cv=5,scoring='roc_auc',n_jobs=-1,verbose=10)"
   ]
  },
  {
   "cell_type": "code",
   "execution_count": 233,
   "metadata": {},
   "outputs": [
    {
     "name": "stdout",
     "output_type": "stream",
     "text": [
      "Fitting 5 folds for each of 5 candidates, totalling 25 fits\n"
     ]
    },
    {
     "name": "stderr",
     "output_type": "stream",
     "text": [
      "[Parallel(n_jobs=-1)]: Using backend LokyBackend with 16 concurrent workers.\n",
      "[Parallel(n_jobs=-1)]: Done   3 out of  25 | elapsed:   26.0s remaining:  3.2min\n",
      "[Parallel(n_jobs=-1)]: Done   6 out of  25 | elapsed:   26.3s remaining:  1.4min\n",
      "[Parallel(n_jobs=-1)]: Done   9 out of  25 | elapsed:   26.8s remaining:   47.7s\n",
      "[Parallel(n_jobs=-1)]: Done  12 out of  25 | elapsed:   27.0s remaining:   29.3s\n",
      "[Parallel(n_jobs=-1)]: Done  15 out of  25 | elapsed:   27.3s remaining:   18.2s\n",
      "[Parallel(n_jobs=-1)]: Done  18 out of  25 | elapsed:   46.3s remaining:   18.0s\n",
      "[Parallel(n_jobs=-1)]: Done  21 out of  25 | elapsed:   47.0s remaining:    8.9s\n",
      "[Parallel(n_jobs=-1)]: Done  25 out of  25 | elapsed:   47.6s finished\n"
     ]
    },
    {
     "data": {
      "text/plain": [
       "RandomizedSearchCV(cv=5, error_score='raise-deprecating',\n",
       "          estimator=XGBClassifier(base_score=0.5, booster='gbtree', colsample_bylevel=0.8,\n",
       "       colsample_bynode=1, colsample_bytree=0.8, gamma=9,\n",
       "       learning_rate=0.01, max_delta_step=0, max_depth=8,\n",
       "       min_child_weight=5, missing=None, n_estimators=1000, n_jobs=1,\n",
       "       nthread=None, objective='binary:logistic', random_state=0,\n",
       "       reg_alpha=0, reg_lambda=1, scale_pos_weight=1, seed=None,\n",
       "       silent=None, subsample=0.8, verbosity=1),\n",
       "          fit_params=None, iid='warn', n_iter=5, n_jobs=-1,\n",
       "          param_distributions={'max_delta_step': [0, 1, 3, 6, 10]},\n",
       "          pre_dispatch='2*n_jobs', random_state=None, refit=True,\n",
       "          return_train_score='warn', scoring='roc_auc', verbose=10)"
      ]
     },
     "execution_count": 233,
     "metadata": {},
     "output_type": "execute_result"
    }
   ],
   "source": [
    "random_search.fit(x_train,y_train)"
   ]
  },
  {
   "cell_type": "code",
   "execution_count": 234,
   "metadata": {},
   "outputs": [
    {
     "name": "stdout",
     "output_type": "stream",
     "text": [
      "Model with rank: 1\n",
      "Mean validation score: 0.644 (std: 0.01058)\n",
      "Parameters: {'max_delta_step': 0}\n",
      "\n",
      "Model with rank: 1\n",
      "Mean validation score: 0.644 (std: 0.01058)\n",
      "Parameters: {'max_delta_step': 3}\n",
      "\n",
      "Model with rank: 1\n",
      "Mean validation score: 0.644 (std: 0.01058)\n",
      "Parameters: {'max_delta_step': 6}\n",
      "\n",
      "Model with rank: 1\n",
      "Mean validation score: 0.644 (std: 0.01058)\n",
      "Parameters: {'max_delta_step': 10}\n",
      "\n"
     ]
    }
   ],
   "source": [
    "report(random_search.cv_results_,3)"
   ]
  },
  {
   "cell_type": "code",
   "execution_count": 235,
   "metadata": {},
   "outputs": [],
   "source": [
    "xgb_params={\n",
    "            'subsample':[i/10 for i in range(5,11)],\n",
    "            'colsample_bytree':[i/10 for i in range(5,11)],\n",
    "            'colsample_bylevel':[i/10 for i in range(5,11)]\n",
    "            }"
   ]
  },
  {
   "cell_type": "code",
   "execution_count": 236,
   "metadata": {},
   "outputs": [],
   "source": [
    "xgb4=XGBClassifier(learning_rate=0.01,n_estimators=1000,min_child_weight=5,gamma=9,max_depth=8,\n",
    "                        max_delta_step=0\n",
    "                  )"
   ]
  },
  {
   "cell_type": "code",
   "execution_count": 237,
   "metadata": {},
   "outputs": [],
   "source": [
    "random_search=RandomizedSearchCV(xgb4,param_distributions=xgb_params,cv=5,n_iter=20,scoring='roc_auc',\n",
    "                                n_jobs=-1,verbose=20)"
   ]
  },
  {
   "cell_type": "code",
   "execution_count": 238,
   "metadata": {
    "scrolled": true
   },
   "outputs": [
    {
     "name": "stdout",
     "output_type": "stream",
     "text": [
      "Fitting 5 folds for each of 20 candidates, totalling 100 fits\n"
     ]
    },
    {
     "name": "stderr",
     "output_type": "stream",
     "text": [
      "[Parallel(n_jobs=-1)]: Using backend LokyBackend with 16 concurrent workers.\n",
      "[Parallel(n_jobs=-1)]: Done   1 tasks      | elapsed:   22.5s\n",
      "[Parallel(n_jobs=-1)]: Done   2 tasks      | elapsed:   22.8s\n",
      "[Parallel(n_jobs=-1)]: Done   3 tasks      | elapsed:   22.9s\n",
      "[Parallel(n_jobs=-1)]: Done   4 tasks      | elapsed:   22.9s\n",
      "[Parallel(n_jobs=-1)]: Done   5 tasks      | elapsed:   23.4s\n",
      "[Parallel(n_jobs=-1)]: Done   6 tasks      | elapsed:   24.0s\n",
      "[Parallel(n_jobs=-1)]: Done   7 tasks      | elapsed:   25.5s\n",
      "[Parallel(n_jobs=-1)]: Done   8 tasks      | elapsed:   25.7s\n",
      "[Parallel(n_jobs=-1)]: Done   9 tasks      | elapsed:   25.8s\n",
      "[Parallel(n_jobs=-1)]: Done  10 tasks      | elapsed:   26.0s\n",
      "[Parallel(n_jobs=-1)]: Done  11 tasks      | elapsed:   26.4s\n",
      "[Parallel(n_jobs=-1)]: Done  12 tasks      | elapsed:   30.6s\n",
      "[Parallel(n_jobs=-1)]: Done  13 tasks      | elapsed:   30.8s\n",
      "[Parallel(n_jobs=-1)]: Done  14 tasks      | elapsed:   30.8s\n",
      "[Parallel(n_jobs=-1)]: Done  15 tasks      | elapsed:   30.9s\n",
      "[Parallel(n_jobs=-1)]: Done  16 tasks      | elapsed:   31.0s\n",
      "[Parallel(n_jobs=-1)]: Done  17 tasks      | elapsed:   45.5s\n",
      "[Parallel(n_jobs=-1)]: Done  18 tasks      | elapsed:   47.3s\n",
      "[Parallel(n_jobs=-1)]: Done  19 tasks      | elapsed:   48.2s\n",
      "[Parallel(n_jobs=-1)]: Done  20 tasks      | elapsed:   48.3s\n",
      "[Parallel(n_jobs=-1)]: Done  21 tasks      | elapsed:   48.4s\n",
      "[Parallel(n_jobs=-1)]: Done  22 tasks      | elapsed:   49.0s\n",
      "[Parallel(n_jobs=-1)]: Done  23 tasks      | elapsed:   49.8s\n",
      "[Parallel(n_jobs=-1)]: Done  24 tasks      | elapsed:   49.9s\n",
      "[Parallel(n_jobs=-1)]: Done  25 tasks      | elapsed:   50.2s\n",
      "[Parallel(n_jobs=-1)]: Done  26 tasks      | elapsed:   50.4s\n",
      "[Parallel(n_jobs=-1)]: Done  27 tasks      | elapsed:   50.9s\n",
      "[Parallel(n_jobs=-1)]: Done  28 tasks      | elapsed:   51.4s\n",
      "[Parallel(n_jobs=-1)]: Done  29 tasks      | elapsed:   52.6s\n",
      "[Parallel(n_jobs=-1)]: Done  30 tasks      | elapsed:   53.1s\n",
      "[Parallel(n_jobs=-1)]: Done  31 tasks      | elapsed:   53.3s\n",
      "[Parallel(n_jobs=-1)]: Done  32 tasks      | elapsed:   55.0s\n",
      "[Parallel(n_jobs=-1)]: Done  33 tasks      | elapsed:  1.1min\n",
      "[Parallel(n_jobs=-1)]: Done  34 tasks      | elapsed:  1.1min\n",
      "[Parallel(n_jobs=-1)]: Done  35 tasks      | elapsed:  1.1min\n",
      "[Parallel(n_jobs=-1)]: Done  36 tasks      | elapsed:  1.1min\n",
      "[Parallel(n_jobs=-1)]: Done  37 tasks      | elapsed:  1.1min\n",
      "[Parallel(n_jobs=-1)]: Done  38 tasks      | elapsed:  1.1min\n",
      "[Parallel(n_jobs=-1)]: Done  39 tasks      | elapsed:  1.1min\n",
      "[Parallel(n_jobs=-1)]: Done  40 tasks      | elapsed:  1.2min\n",
      "[Parallel(n_jobs=-1)]: Done  41 tasks      | elapsed:  1.3min\n",
      "[Parallel(n_jobs=-1)]: Done  42 tasks      | elapsed:  1.3min\n",
      "[Parallel(n_jobs=-1)]: Done  43 tasks      | elapsed:  1.3min\n",
      "[Parallel(n_jobs=-1)]: Done  44 tasks      | elapsed:  1.3min\n",
      "[Parallel(n_jobs=-1)]: Done  45 tasks      | elapsed:  1.3min\n",
      "[Parallel(n_jobs=-1)]: Done  46 tasks      | elapsed:  1.4min\n",
      "[Parallel(n_jobs=-1)]: Done  47 tasks      | elapsed:  1.4min\n",
      "[Parallel(n_jobs=-1)]: Done  48 tasks      | elapsed:  1.4min\n",
      "[Parallel(n_jobs=-1)]: Done  49 tasks      | elapsed:  1.6min\n",
      "[Parallel(n_jobs=-1)]: Done  50 tasks      | elapsed:  1.6min\n",
      "[Parallel(n_jobs=-1)]: Done  51 tasks      | elapsed:  1.6min\n",
      "[Parallel(n_jobs=-1)]: Done  52 tasks      | elapsed:  1.6min\n",
      "[Parallel(n_jobs=-1)]: Done  53 tasks      | elapsed:  1.6min\n",
      "[Parallel(n_jobs=-1)]: Done  54 tasks      | elapsed:  1.6min\n",
      "[Parallel(n_jobs=-1)]: Done  55 tasks      | elapsed:  1.6min\n",
      "[Parallel(n_jobs=-1)]: Done  56 tasks      | elapsed:  1.6min\n",
      "[Parallel(n_jobs=-1)]: Done  57 tasks      | elapsed:  1.7min\n",
      "[Parallel(n_jobs=-1)]: Done  58 tasks      | elapsed:  1.7min\n",
      "[Parallel(n_jobs=-1)]: Done  59 tasks      | elapsed:  1.7min\n",
      "[Parallel(n_jobs=-1)]: Done  60 tasks      | elapsed:  1.8min\n",
      "[Parallel(n_jobs=-1)]: Done  61 tasks      | elapsed:  1.8min\n",
      "[Parallel(n_jobs=-1)]: Done  62 tasks      | elapsed:  1.8min\n",
      "[Parallel(n_jobs=-1)]: Done  63 tasks      | elapsed:  1.8min\n",
      "[Parallel(n_jobs=-1)]: Done  64 tasks      | elapsed:  1.9min\n",
      "[Parallel(n_jobs=-1)]: Done  65 tasks      | elapsed:  2.0min\n",
      "[Parallel(n_jobs=-1)]: Done  66 tasks      | elapsed:  2.0min\n",
      "[Parallel(n_jobs=-1)]: Done  67 tasks      | elapsed:  2.0min\n",
      "[Parallel(n_jobs=-1)]: Done  68 tasks      | elapsed:  2.0min\n",
      "[Parallel(n_jobs=-1)]: Done  69 tasks      | elapsed:  2.0min\n",
      "[Parallel(n_jobs=-1)]: Done  75 out of 100 | elapsed:  2.1min remaining:   42.5s\n",
      "[Parallel(n_jobs=-1)]: Done  81 out of 100 | elapsed:  2.4min remaining:   33.8s\n",
      "[Parallel(n_jobs=-1)]: Done  87 out of 100 | elapsed:  2.4min remaining:   21.8s\n",
      "[Parallel(n_jobs=-1)]: Done  93 out of 100 | elapsed:  2.5min remaining:   11.2s\n",
      "[Parallel(n_jobs=-1)]: Done 100 out of 100 | elapsed:  2.8min finished\n"
     ]
    },
    {
     "data": {
      "text/plain": [
       "RandomizedSearchCV(cv=5, error_score='raise-deprecating',\n",
       "          estimator=XGBClassifier(base_score=0.5, booster='gbtree', colsample_bylevel=1,\n",
       "       colsample_bynode=1, colsample_bytree=1, gamma=9, learning_rate=0.01,\n",
       "       max_delta_step=0, max_depth=8, min_child_weight=5, missing=None,\n",
       "       n_estimators=1000, n_jobs=1, nthread=None,\n",
       "       objective='binary:logistic', random_state=0, reg_alpha=0,\n",
       "       reg_lambda=1, scale_pos_weight=1, seed=None, silent=None,\n",
       "       subsample=1, verbosity=1),\n",
       "          fit_params=None, iid='warn', n_iter=20, n_jobs=-1,\n",
       "          param_distributions={'subsample': [0.5, 0.6, 0.7, 0.8, 0.9, 1.0], 'colsample_bytree': [0.5, 0.6, 0.7, 0.8, 0.9, 1.0], 'colsample_bylevel': [0.5, 0.6, 0.7, 0.8, 0.9, 1.0]},\n",
       "          pre_dispatch='2*n_jobs', random_state=None, refit=True,\n",
       "          return_train_score='warn', scoring='roc_auc', verbose=20)"
      ]
     },
     "execution_count": 238,
     "metadata": {},
     "output_type": "execute_result"
    }
   ],
   "source": [
    "random_search.fit(x_train,y_train)"
   ]
  },
  {
   "cell_type": "code",
   "execution_count": 239,
   "metadata": {},
   "outputs": [
    {
     "name": "stdout",
     "output_type": "stream",
     "text": [
      "Model with rank: 1\n",
      "Mean validation score: 0.644 (std: 0.01107)\n",
      "Parameters: {'subsample': 0.8, 'colsample_bytree': 0.6, 'colsample_bylevel': 1.0}\n",
      "\n",
      "Model with rank: 2\n",
      "Mean validation score: 0.644 (std: 0.01069)\n",
      "Parameters: {'subsample': 0.8, 'colsample_bytree': 0.5, 'colsample_bylevel': 0.9}\n",
      "\n",
      "Model with rank: 3\n",
      "Mean validation score: 0.644 (std: 0.01002)\n",
      "Parameters: {'subsample': 0.9, 'colsample_bytree': 0.6, 'colsample_bylevel': 1.0}\n",
      "\n"
     ]
    }
   ],
   "source": [
    "report(random_search.cv_results_,3)"
   ]
  },
  {
   "cell_type": "code",
   "execution_count": 240,
   "metadata": {},
   "outputs": [],
   "source": [
    "gf= random_search.best_estimator_"
   ]
  },
  {
   "cell_type": "code",
   "execution_count": 242,
   "metadata": {},
   "outputs": [
    {
     "data": {
      "text/plain": [
       "XGBClassifier(base_score=0.5, booster='gbtree', colsample_bylevel=1.0,\n",
       "       colsample_bynode=1, colsample_bytree=0.6, gamma=9,\n",
       "       learning_rate=0.01, max_delta_step=0, max_depth=8,\n",
       "       min_child_weight=5, missing=None, n_estimators=1000, n_jobs=1,\n",
       "       nthread=None, objective='binary:logistic', random_state=0,\n",
       "       reg_alpha=0, reg_lambda=1, scale_pos_weight=1, seed=None,\n",
       "       silent=None, subsample=0.8, verbosity=1)"
      ]
     },
     "execution_count": 242,
     "metadata": {},
     "output_type": "execute_result"
    }
   ],
   "source": [
    "gf.fit(x_train,y_train)"
   ]
  },
  {
   "cell_type": "code",
   "execution_count": 245,
   "metadata": {},
   "outputs": [
    {
     "data": {
      "text/plain": [
       "0.6178262268442303"
      ]
     },
     "execution_count": 245,
     "metadata": {},
     "output_type": "execute_result"
    }
   ],
   "source": [
    "from sklearn.metrics import roc_auc_score,confusion_matrix\n",
    "\n",
    "predicted = gf.predict(x_train)\n",
    "roc_auc_score(y_train,predicted)"
   ]
  },
  {
   "cell_type": "code",
   "execution_count": 246,
   "metadata": {},
   "outputs": [
    {
     "data": {
      "text/plain": [
       "0.6043088413709433"
      ]
     },
     "execution_count": 246,
     "metadata": {},
     "output_type": "execute_result"
    }
   ],
   "source": [
    "predicted = gf.predict(x_test)\n",
    "roc_auc_score(y_test,predicted)"
   ]
  },
  {
   "cell_type": "code",
   "execution_count": 247,
   "metadata": {},
   "outputs": [
    {
     "data": {
      "text/plain": [
       "array([[2312,  376],\n",
       "       [1432,  766]], dtype=int64)"
      ]
     },
     "execution_count": 247,
     "metadata": {},
     "output_type": "execute_result"
    }
   ],
   "source": [
    "confusion_matrix(y_test, predicted)"
   ]
  },
  {
   "cell_type": "code",
   "execution_count": 255,
   "metadata": {},
   "outputs": [
    {
     "data": {
      "text/plain": [
       "array([[2263,  425],\n",
       "       [1374,  824]], dtype=int64)"
      ]
     },
     "execution_count": 255,
     "metadata": {},
     "output_type": "execute_result"
    }
   ],
   "source": [
    "confusion_matrix(y_test, predicted)"
   ]
  },
  {
   "cell_type": "code",
   "execution_count": 249,
   "metadata": {},
   "outputs": [
    {
     "data": {
      "text/plain": [
       "[('location_x', 0.026311016),\n",
       " ('location_y', 0.027348783),\n",
       " ('power_of_shot', 0.023390962),\n",
       " ('distance_of_shot', 0.1255263),\n",
       " ('area_of_shot', 0.031095693),\n",
       " ('shot_basics', 0.19764562),\n",
       " ('range_of_shot', 0.10228321),\n",
       " ('home', 0.028160783),\n",
       " ('type_of_shot', 0.058948576),\n",
       " ('game_date_month', 0.022480302),\n",
       " ('game_date_quarter', 0.023026465),\n",
       " ('time_remaining', 0.03156301),\n",
       " ('timeUnder4', 0.08697146),\n",
       " ('distance_bin', 0.14364527),\n",
       " ('type_of_shot_bins', 0.07160259)]"
      ]
     },
     "execution_count": 249,
     "metadata": {},
     "output_type": "execute_result"
    }
   ],
   "source": [
    "list(zip(x_train.columns, gf.feature_importances_))"
   ]
  },
  {
   "cell_type": "code",
   "execution_count": 250,
   "metadata": {},
   "outputs": [],
   "source": [
    "predicted = gf.predict_proba(test)\n",
    "submission = pd.read_csv(r'./sample_submission.csv')\n",
    "submission['is_goal'] = predicted\n",
    "submission.to_csv('submission.csv',index=False)"
   ]
  },
  {
   "cell_type": "code",
   "execution_count": 471,
   "metadata": {},
   "outputs": [],
   "source": [
    "from lightgbm import LGBMClassifier\n",
    "from sklearn.metrics import confusion_matrix"
   ]
  },
  {
   "cell_type": "code",
   "execution_count": 472,
   "metadata": {},
   "outputs": [],
   "source": [
    "lgb = LGBMClassifier()"
   ]
  },
  {
   "cell_type": "code",
   "execution_count": 473,
   "metadata": {},
   "outputs": [
    {
     "data": {
      "text/plain": [
       "LGBMClassifier(boosting_type='gbdt', class_weight=None, colsample_bytree=1.0,\n",
       "        importance_type='split', learning_rate=0.1, max_depth=-1,\n",
       "        min_child_samples=20, min_child_weight=0.001, min_split_gain=0.0,\n",
       "        n_estimators=100, n_jobs=-1, num_leaves=31, objective=None,\n",
       "        random_state=None, reg_alpha=0.0, reg_lambda=0.0, silent=True,\n",
       "        subsample=1.0, subsample_for_bin=200000, subsample_freq=0)"
      ]
     },
     "execution_count": 473,
     "metadata": {},
     "output_type": "execute_result"
    }
   ],
   "source": [
    "lgb.fit(x_train,y_train)"
   ]
  },
  {
   "cell_type": "code",
   "execution_count": 474,
   "metadata": {},
   "outputs": [
    {
     "data": {
      "text/plain": [
       "0.6083880705944799"
      ]
     },
     "execution_count": 474,
     "metadata": {},
     "output_type": "execute_result"
    }
   ],
   "source": [
    "predicted = lgb.predict(x_test)\n",
    "roc_auc_score(y_test,predicted)"
   ]
  },
  {
   "cell_type": "code",
   "execution_count": 475,
   "metadata": {},
   "outputs": [
    {
     "data": {
      "text/plain": [
       "0.6083880705944799"
      ]
     },
     "execution_count": 475,
     "metadata": {},
     "output_type": "execute_result"
    }
   ],
   "source": [
    "predicted = lgb.predict(x_test)\n",
    "roc_auc_score(y_test,predicted)"
   ]
  },
  {
   "cell_type": "code",
   "execution_count": 476,
   "metadata": {},
   "outputs": [
    {
     "data": {
      "text/plain": [
       "[('location_x', 495),\n",
       " ('location_y', 491),\n",
       " ('power_of_shot', 155),\n",
       " ('distance_of_shot', 249),\n",
       " ('area_of_shot', 37),\n",
       " ('shot_basics', 26),\n",
       " ('range_of_shot', 14),\n",
       " ('home', 92),\n",
       " ('type_of_shot', 533),\n",
       " ('game_date_month', 224),\n",
       " ('game_date_quarter', 2),\n",
       " ('time_remaining', 678),\n",
       " ('timeUnder4', 4)]"
      ]
     },
     "execution_count": 476,
     "metadata": {},
     "output_type": "execute_result"
    }
   ],
   "source": [
    "list(zip(x_train.columns , lgb.feature_importances_))"
   ]
  },
  {
   "cell_type": "code",
   "execution_count": 477,
   "metadata": {},
   "outputs": [
    {
     "data": {
      "text/plain": [
       "array([[2263,  425],\n",
       "       [1374,  824]], dtype=int64)"
      ]
     },
     "execution_count": 477,
     "metadata": {},
     "output_type": "execute_result"
    }
   ],
   "source": [
    "confusion_matrix(y_test, predicted)"
   ]
  },
  {
   "cell_type": "code",
   "execution_count": 478,
   "metadata": {},
   "outputs": [],
   "source": [
    "predicted = lgb.predict_proba(test)\n",
    "submission = pd.read_csv(r'./sample_submission.csv')\n",
    "submission['is_goal'] = predicted\n",
    "submission.to_csv('submission.csv',index=False)"
   ]
  },
  {
   "cell_type": "code",
   "execution_count": null,
   "metadata": {},
   "outputs": [],
   "source": []
  }
 ],
 "metadata": {
  "kernelspec": {
   "display_name": "Python 3",
   "language": "python",
   "name": "python3"
  },
  "language_info": {
   "codemirror_mode": {
    "name": "ipython",
    "version": 3
   },
   "file_extension": ".py",
   "mimetype": "text/x-python",
   "name": "python",
   "nbconvert_exporter": "python",
   "pygments_lexer": "ipython3",
   "version": "3.7.3"
  }
 },
 "nbformat": 4,
 "nbformat_minor": 2
}
